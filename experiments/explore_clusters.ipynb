{
 "cells": [
  {
   "cell_type": "code",
   "execution_count": 1,
   "metadata": {},
   "outputs": [],
   "source": [
    "import os\n",
    "\n",
    "import matplotlib.pyplot as plt\n",
    "import numpy as np\n",
    "import pandas as pd\n",
    "import seaborn as sns\n"
   ]
  },
  {
   "cell_type": "code",
   "execution_count": 2,
   "metadata": {},
   "outputs": [],
   "source": [
    "# The following files contain the FoldSeek sequence-based clusters (AFDB50) and structure-based\n",
    "# clusters (FoldSeek-Cluster), subset to only include SwissProt proteins.\n",
    "foldseek_dir = \"/weka/scratch/weka/kellislab/rcalef/data/foldseek_cluster\"\n",
    "\n",
    "seq_cluster_path = os.path.join(foldseek_dir, \"afdb50_clusters_swissprot.tsv\")\n",
    "struct_cluster_path = os.path.join(foldseek_dir, \"foldseek_clusters_swissprot.tsv\")"
   ]
  },
  {
   "cell_type": "code",
   "execution_count": 3,
   "metadata": {},
   "outputs": [
    {
     "data": {
      "text/html": [
       "<div>\n",
       "<style scoped>\n",
       "    .dataframe tbody tr th:only-of-type {\n",
       "        vertical-align: middle;\n",
       "    }\n",
       "\n",
       "    .dataframe tbody tr th {\n",
       "        vertical-align: top;\n",
       "    }\n",
       "\n",
       "    .dataframe thead th {\n",
       "        text-align: right;\n",
       "    }\n",
       "</style>\n",
       "<table border=\"1\" class=\"dataframe\">\n",
       "  <thead>\n",
       "    <tr style=\"text-align: right;\">\n",
       "      <th></th>\n",
       "      <th>rep_id</th>\n",
       "      <th>uniprot_id</th>\n",
       "    </tr>\n",
       "  </thead>\n",
       "  <tbody>\n",
       "    <tr>\n",
       "      <th>0</th>\n",
       "      <td>A0A1Z5LF99</td>\n",
       "      <td>Q7JYV2</td>\n",
       "    </tr>\n",
       "    <tr>\n",
       "      <th>1</th>\n",
       "      <td>B9LLY0</td>\n",
       "      <td>B9LLY0</td>\n",
       "    </tr>\n",
       "    <tr>\n",
       "      <th>2</th>\n",
       "      <td>B9LLY0</td>\n",
       "      <td>A9WHT8</td>\n",
       "    </tr>\n",
       "    <tr>\n",
       "      <th>3</th>\n",
       "      <td>P07316</td>\n",
       "      <td>A3RLE1</td>\n",
       "    </tr>\n",
       "    <tr>\n",
       "      <th>4</th>\n",
       "      <td>P07316</td>\n",
       "      <td>P04344</td>\n",
       "    </tr>\n",
       "  </tbody>\n",
       "</table>\n",
       "</div>"
      ],
      "text/plain": [
       "       rep_id uniprot_id\n",
       "0  A0A1Z5LF99     Q7JYV2\n",
       "1      B9LLY0     B9LLY0\n",
       "2      B9LLY0     A9WHT8\n",
       "3      P07316     A3RLE1\n",
       "4      P07316     P04344"
      ]
     },
     "execution_count": 3,
     "metadata": {},
     "output_type": "execute_result"
    }
   ],
   "source": [
    "# `rep_id` gives the UniProt ID of the representative for the cluster, `uniprot_id` gives\n",
    "# the UniProt ID for the actual individual protein. File has an extraneous blank column.\n",
    "seq_cluster_assignments = pd.read_table(seq_cluster_path, names=[\"rep_id\", \"uniprot_id\", \"X\"]).drop(columns=[\"X\"])\n",
    "seq_cluster_assignments.head()"
   ]
  },
  {
   "cell_type": "code",
   "execution_count": 4,
   "metadata": {},
   "outputs": [
    {
     "data": {
      "text/html": [
       "<div>\n",
       "<style scoped>\n",
       "    .dataframe tbody tr th:only-of-type {\n",
       "        vertical-align: middle;\n",
       "    }\n",
       "\n",
       "    .dataframe tbody tr th {\n",
       "        vertical-align: top;\n",
       "    }\n",
       "\n",
       "    .dataframe thead th {\n",
       "        text-align: right;\n",
       "    }\n",
       "</style>\n",
       "<table border=\"1\" class=\"dataframe\">\n",
       "  <thead>\n",
       "    <tr style=\"text-align: right;\">\n",
       "      <th></th>\n",
       "      <th>rep_id</th>\n",
       "      <th>uniprot_id</th>\n",
       "      <th>clust_type</th>\n",
       "      <th>tax_id</th>\n",
       "    </tr>\n",
       "  </thead>\n",
       "  <tbody>\n",
       "    <tr>\n",
       "      <th>0</th>\n",
       "      <td>A0A009J8A1</td>\n",
       "      <td>P0ACU7</td>\n",
       "      <td>1</td>\n",
       "      <td>83333</td>\n",
       "    </tr>\n",
       "    <tr>\n",
       "      <th>1</th>\n",
       "      <td>A0A009J8A1</td>\n",
       "      <td>P0ACU8</td>\n",
       "      <td>1</td>\n",
       "      <td>199310</td>\n",
       "    </tr>\n",
       "    <tr>\n",
       "      <th>2</th>\n",
       "      <td>A0A009J8A1</td>\n",
       "      <td>P0ACU9</td>\n",
       "      <td>1</td>\n",
       "      <td>623</td>\n",
       "    </tr>\n",
       "    <tr>\n",
       "      <th>3</th>\n",
       "      <td>A0A010QBH7</td>\n",
       "      <td>P87145</td>\n",
       "      <td>2</td>\n",
       "      <td>284812</td>\n",
       "    </tr>\n",
       "    <tr>\n",
       "      <th>4</th>\n",
       "      <td>A0A010R299</td>\n",
       "      <td>Q2U1H5</td>\n",
       "      <td>2</td>\n",
       "      <td>510516</td>\n",
       "    </tr>\n",
       "  </tbody>\n",
       "</table>\n",
       "</div>"
      ],
      "text/plain": [
       "       rep_id uniprot_id  clust_type  tax_id\n",
       "0  A0A009J8A1     P0ACU7           1   83333\n",
       "1  A0A009J8A1     P0ACU8           1  199310\n",
       "2  A0A009J8A1     P0ACU9           1     623\n",
       "3  A0A010QBH7     P87145           2  284812\n",
       "4  A0A010R299     Q2U1H5           2  510516"
      ]
     },
     "execution_count": 4,
     "metadata": {},
     "output_type": "execute_result"
    }
   ],
   "source": [
    "# `rep_id` gives the UniProt ID of the representative for the cluster, `uniprot_id` gives\n",
    "# the UniProt ID for the actual individual protein.\n",
    "# `clust_type` describes the reason the protein is included in the cluster (i.e. based on sequence or structure),\n",
    "# or whether or not FoldSeek authors excluded it and why.\n",
    "# `tax_id` is just taxonomic ID for organism\n",
    "# See description for file `5-allmembers-repId-entryId-cluFlag-taxId.tsv.gz` here:\n",
    "#  https://afdb-cluster.steineggerlab.workers.dev/\n",
    "\n",
    "struct_cluster_assignments = pd.read_table(struct_cluster_path, names=[\"rep_id\", \"uniprot_id\", \"clust_type\", \"tax_id\"])\n",
    "struct_cluster_assignments.head()"
   ]
  },
  {
   "cell_type": "code",
   "execution_count": 5,
   "metadata": {},
   "outputs": [],
   "source": [
    "def explore_clusters(clust_df: pd.DataFrame):\n",
    "    clust_counts = clust_df.rep_id.value_counts().reset_index()\n",
    "    # Note that singleton clusters here may not originally be singletons, since clusters\n",
    "    # were constructed using all of UniProt, whereas here we're only looking at SwissProt.\n",
    "    print(f\"{clust_counts.shape[0]} clusters covering {clust_df.shape[0]} proteins, {(clust_counts['count'] == 1).sum()} singleton clusters\")\n",
    "\n",
    "    sns.ecdfplot(\n",
    "        data=clust_counts,\n",
    "        x=\"count\",\n",
    "        log_scale=True,\n",
    "    )\n",
    "    plt.twinx()\n",
    "\n",
    "    sns.ecdfplot(\n",
    "        data=clust_counts,\n",
    "        x=\"count\",\n",
    "        log_scale=True,\n",
    "        stat=\"count\",\n",
    "    )"
   ]
  },
  {
   "cell_type": "code",
   "execution_count": 6,
   "metadata": {},
   "outputs": [
    {
     "name": "stdout",
     "output_type": "stream",
     "text": [
      "210709 clusters covering 547785 proteins, 138093 singleton clusters\n"
     ]
    },
    {
     "data": {
      "image/png": "[encoded data removed]",
      "text/plain": [
       "<Figure size 640x480 with 2 Axes>"
      ]
     },
     "metadata": {},
     "output_type": "display_data"
    }
   ],
   "source": [
    "explore_clusters(seq_cluster_assignments)"
   ]
  },
  {
   "cell_type": "code",
   "execution_count": 8,
   "metadata": {},
   "outputs": [
    {
     "name": "stdout",
     "output_type": "stream",
     "text": [
      "74251 clusters covering 547785 proteins, 38641 singleton clusters\n"
     ]
    },
    {
     "data": {
      "image/png": "[encoded data removed]",
      "text/plain": [
       "<Figure size 640x480 with 2 Axes>"
      ]
     },
     "metadata": {},
     "output_type": "display_data"
    }
   ],
   "source": [
    "explore_clusters(struct_cluster_assignments)"
   ]
  },
  {
   "cell_type": "code",
   "execution_count": 9,
   "metadata": {},
   "outputs": [
    {
     "data": {
      "text/plain": [
       "'P0ACU7'"
      ]
     },
     "execution_count": 9,
     "metadata": {},
     "output_type": "execute_result"
    }
   ],
   "source": [
    "# Get path to mmCIF or PDB file given a UniProt ID\n",
    "want_id = struct_cluster_assignments.uniprot_id.iat[0]\n",
    "want_id"
   ]
  },
  {
   "cell_type": "code",
   "execution_count": 10,
   "metadata": {},
   "outputs": [
    {
     "name": "stdout",
     "output_type": "stream",
     "text": [
      "True\n",
      "True\n"
     ]
    }
   ],
   "source": [
    "cif_tmpl = \"/weka/scratch/weka/kellislab/rcalef/data/cif_alphafolddb/AF-%s-F1-model_v4.cif.gz\"\n",
    "pdb_tmpl = \"/weka/scratch/weka/kellislab/rcalef/data/pdb_alphafolddb/AF-%s-F1-model_v4.pdb\"\n",
    "\n",
    "print(os.path.exists(cif_tmpl % want_id))\n",
    "print(os.path.exists(pdb_tmpl % want_id))"
   ]
  }
 ],
 "metadata": {
  "kernelspec": {
   "display_name": "Python 3 (ipykernel)",
   "language": "python",
   "name": "python3"
  },
  "language_info": {
   "codemirror_mode": {
    "name": "ipython",
    "version": 3
   },
   "file_extension": ".py",
   "mimetype": "text/x-python",
   "name": "python",
   "nbconvert_exporter": "python",
   "pygments_lexer": "ipython3",
   "version": "3.11.4"
  }
 },
 "nbformat": 4,
 "nbformat_minor": 2
}
