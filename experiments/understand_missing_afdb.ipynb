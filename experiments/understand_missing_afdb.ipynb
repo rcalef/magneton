{
 "cells": [
  {
   "cell_type": "code",
   "execution_count": 1,
   "metadata": {},
   "outputs": [],
   "source": [
    "import os\n",
    "\n",
    "import pandas as pd"
   ]
  },
  {
   "cell_type": "code",
   "execution_count": 2,
   "metadata": {},
   "outputs": [],
   "source": [
    "from magneton.interpro_parsing import parse_from_pkl"
   ]
  },
  {
   "cell_type": "markdown",
   "metadata": {},
   "source": [
    "Goal here was to understand why our AlphaFoldDB download was missing structures for some SwissProt proteins.\n",
    "\n",
    "## Summary\n",
    "- Overview of missingness reasons is given under \"Which proteins are included?\" [here](https://alphafold.ebi.ac.uk/faq)\n",
    "- Only 23,870 / 555,692 SwissProt proteins parsed out of InterPro are missing AlphaFoldDB structures\n",
    "- Of that, 5816 were added to SwissProt after the 2021_04 release, and the remainder are excluded for other outlined reasons\n",
    "\n",
    "## Context\n",
    "When trying to add in secondary structure annotations to the `Protein` objects parsed out of InterPro, I was running into cases where there was no AlphaFold struture for a certain protein, since I was trying to parse the secondary structure annotations from the AlphaFoldDB mmCIF files.\n",
    "\n",
    "## Methods\n",
    "Downloaded old SwissProt release (2021_04) which was used for AlphaFoldDB (located at `/home/rcalef/storage/om_storage/data/uniprot/swissprot_2021_04`), checked how many of the missing UniProt IDs were also missing from there (i.e. added to SwissProt after that cutoff), then manually inspected the UniProt pages for a few of the remainder, which seemed to match the other AlphaFoldDB exclusion criteria (e.g. containing non-standard `X` amino acids)."
   ]
  },
  {
   "cell_type": "code",
   "execution_count": 3,
   "metadata": {},
   "outputs": [
    {
     "name": "stdout",
     "output_type": "stream",
     "text": [
      "found 531822 / 555692 (23870 missing)\n"
     ]
    }
   ],
   "source": [
    "swissprot_pkl_path = \"/weka/scratch/weka/kellislab/rcalef/data/interpro/102.0/filter_swissprot/swissprot_prots.pkl.bz2\"\n",
    "cif_tmpl = \"/weka/scratch/weka/kellislab/rcalef/data/cif_alphafolddb/AF-%s-F1-model_v4.cif.gz\"\n",
    "\n",
    "num = 0\n",
    "num_found = 0\n",
    "missing = []\n",
    "for i, prot in enumerate(parse_from_pkl(swissprot_pkl_path, compression=\"bz2\")):\n",
    "    num += 1\n",
    "    if os.path.exists(cif_tmpl % prot.uniprot_id):\n",
    "        num_found += 1\n",
    "    else:\n",
    "        missing.append(prot.uniprot_id)\n",
    "print(f\"found {num_found} / {num} ({len(missing)} missing)\")\n"
   ]
  },
  {
   "cell_type": "code",
   "execution_count": 4,
   "metadata": {},
   "outputs": [
    {
     "data": {
      "text/html": [
       "<div>\n",
       "<style scoped>\n",
       "    .dataframe tbody tr th:only-of-type {\n",
       "        vertical-align: middle;\n",
       "    }\n",
       "\n",
       "    .dataframe tbody tr th {\n",
       "        vertical-align: top;\n",
       "    }\n",
       "\n",
       "    .dataframe thead th {\n",
       "        text-align: right;\n",
       "    }\n",
       "</style>\n",
       "<table border=\"1\" class=\"dataframe\">\n",
       "  <thead>\n",
       "    <tr style=\"text-align: right;\">\n",
       "      <th></th>\n",
       "      <th>uniprot_id</th>\n",
       "      <th>x1</th>\n",
       "      <th>x2</th>\n",
       "      <th>x3</th>\n",
       "      <th>x4</th>\n",
       "    </tr>\n",
       "  </thead>\n",
       "  <tbody>\n",
       "    <tr>\n",
       "      <th>0</th>\n",
       "      <td>Q6GZX4</td>\n",
       "      <td>256</td>\n",
       "      <td>122</td>\n",
       "      <td>60</td>\n",
       "      <td>61</td>\n",
       "    </tr>\n",
       "    <tr>\n",
       "      <th>1</th>\n",
       "      <td>Q6GZX3</td>\n",
       "      <td>320</td>\n",
       "      <td>499</td>\n",
       "      <td>60</td>\n",
       "      <td>61</td>\n",
       "    </tr>\n",
       "    <tr>\n",
       "      <th>2</th>\n",
       "      <td>Q197F8</td>\n",
       "      <td>458</td>\n",
       "      <td>943</td>\n",
       "      <td>60</td>\n",
       "      <td>61</td>\n",
       "    </tr>\n",
       "    <tr>\n",
       "      <th>3</th>\n",
       "      <td>Q197F7</td>\n",
       "      <td>156</td>\n",
       "      <td>1527</td>\n",
       "      <td>60</td>\n",
       "      <td>61</td>\n",
       "    </tr>\n",
       "    <tr>\n",
       "      <th>4</th>\n",
       "      <td>Q6GZX2</td>\n",
       "      <td>438</td>\n",
       "      <td>1800</td>\n",
       "      <td>60</td>\n",
       "      <td>61</td>\n",
       "    </tr>\n",
       "  </tbody>\n",
       "</table>\n",
       "</div>"
      ],
      "text/plain": [
       "  uniprot_id   x1    x2  x3  x4\n",
       "0     Q6GZX4  256   122  60  61\n",
       "1     Q6GZX3  320   499  60  61\n",
       "2     Q197F8  458   943  60  61\n",
       "3     Q197F7  156  1527  60  61\n",
       "4     Q6GZX2  438  1800  60  61"
      ]
     },
     "execution_count": 4,
     "metadata": {},
     "output_type": "execute_result"
    }
   ],
   "source": [
    "check = (\n",
    "    pd.read_table(\n",
    "        \"/weka/scratch/weka/kellislab/rcalef/data/uniprot/swissprot_2021_04/uniprot_sprot.fasta.gz.fai\",\n",
    "        names=[\"uniprot_id\", \"x1\", \"x2\", \"x3\", \"x4\"],\n",
    "    )\n",
    "    .assign(\n",
    "        uniprot_id=lambda x: x.uniprot_id.str.split(\"|\").str[1],\n",
    "    )\n",
    ")\n",
    "check.head()"
   ]
  },
  {
   "cell_type": "code",
   "execution_count": 5,
   "metadata": {},
   "outputs": [],
   "source": [
    "missing = pd.Series(missing)"
   ]
  },
  {
   "cell_type": "code",
   "execution_count": 6,
   "metadata": {},
   "outputs": [
    {
     "data": {
      "text/plain": [
       "18054"
      ]
     },
     "execution_count": 6,
     "metadata": {},
     "output_type": "execute_result"
    }
   ],
   "source": [
    "not_in_old = missing[lambda x: x.isin(check.uniprot_id)]\n",
    "len(not_in_old)"
   ]
  },
  {
   "cell_type": "code",
   "execution_count": 8,
   "metadata": {},
   "outputs": [
    {
     "data": {
      "text/plain": [
       "5816"
      ]
     },
     "execution_count": 8,
     "metadata": {},
     "output_type": "execute_result"
    }
   ],
   "source": [
    "len(missing) - len(not_in_old)"
   ]
  },
  {
   "cell_type": "code",
   "execution_count": 7,
   "metadata": {},
   "outputs": [
    {
     "data": {
      "text/plain": [
       "12    A0A023GS29\n",
       "15    A0A024B7W1\n",
       "16    A0A024F910\n",
       "26    A0A061FLA2\n",
       "48    A0A075TJ05\n",
       "dtype: object"
      ]
     },
     "execution_count": 7,
     "metadata": {},
     "output_type": "execute_result"
    }
   ],
   "source": [
    "not_in_old.head()"
   ]
  }
 ],
 "metadata": {
  "kernelspec": {
   "display_name": "Python 3 (ipykernel)",
   "language": "python",
   "name": "python3"
  },
  "language_info": {
   "codemirror_mode": {
    "name": "ipython",
    "version": 3
   },
   "file_extension": ".py",
   "mimetype": "text/x-python",
   "name": "python",
   "nbconvert_exporter": "python",
   "pygments_lexer": "ipython3",
   "version": "3.11.4"
  }
 },
 "nbformat": 4,
 "nbformat_minor": 2
}
