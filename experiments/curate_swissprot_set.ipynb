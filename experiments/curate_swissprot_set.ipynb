{
 "cells": [
  {
   "cell_type": "code",
   "execution_count": 1,
   "metadata": {},
   "outputs": [],
   "source": [
    "import os\n",
    "\n",
    "import pandas as pd"
   ]
  },
  {
   "cell_type": "code",
   "execution_count": 2,
   "metadata": {},
   "outputs": [],
   "source": [
    "from magneton.io.internal import parse_from_dir, parse_from_pkl"
   ]
  },
  {
   "cell_type": "markdown",
   "metadata": {},
   "source": [
    "Goal here is to construct the final SwissProt dataset and understand why we lose various proteins along the way.\n",
    "\n",
    "## Summary\n",
    "- Start from 572,619 SwissProt proteins exported from UniProtKB on 2025/01/22\n",
    "- Keep 564,095 / 572,619 proteins that could be in AlphaFoldDB\n",
    "  - AlphaFoldDB used the 2021_04 release of SwissProt, so remove proteins added to SwissProt after then\n",
    "  - Furthermore, some proteins have had their sequence updated since the 2021_04 release, so remove those as well (structure doesn't match current sequence)\n",
    "- Keep 548,484 / 564,095 proteins that are present in InterPro (not entirely clear why some are excluded from InterPro)\n",
    "- Of those, 530,601 / 548,484 are also in AlphaFoldDB, likely excluded due to other outlined reasons\n",
    "  - Overview of missingness reasons is given under \"Which proteins are included?\" [here](https://alphafold.ebi.ac.uk/faq)\n",
    "- This is the final set of proteins we use.\n",
    "\n",
    "## Context\n",
    "When trying to add in secondary structure annotations to the `Protein` objects parsed out of InterPro, I was running into cases where there was no AlphaFold struture for a certain protein, since I was trying to parse the secondary structure annotations from the AlphaFoldDB mmCIF files.\n",
    "\n",
    "## Methods\n",
    "Downloaded old SwissProt release (2021_04) which was used for AlphaFoldDB (located at `/home/rcalef/storage/om_storage/data/uniprot/swissprot_2021_04`), checked how many of the missing UniProt IDs were also missing from there (i.e. added to SwissProt after that cutoff), then manually inspected the UniProt pages for a few of the remainder, which seemed to match the other AlphaFoldDB exclusion criteria (e.g. containing non-standard `X` amino acids)."
   ]
  },
  {
   "cell_type": "code",
   "execution_count": 3,
   "metadata": {},
   "outputs": [],
   "source": [
    "data_dir = \"/weka/scratch/weka/kellislab/rcalef/data/\""
   ]
  },
  {
   "cell_type": "code",
   "execution_count": 4,
   "metadata": {},
   "outputs": [
    {
     "name": "stdout",
     "output_type": "stream",
     "text": [
      "572619\n"
     ]
    },
    {
     "data": {
      "text/html": [
       "<div>\n",
       "<style scoped>\n",
       "    .dataframe tbody tr th:only-of-type {\n",
       "        vertical-align: middle;\n",
       "    }\n",
       "\n",
       "    .dataframe tbody tr th {\n",
       "        vertical-align: top;\n",
       "    }\n",
       "\n",
       "    .dataframe thead th {\n",
       "        text-align: right;\n",
       "    }\n",
       "</style>\n",
       "<table border=\"1\" class=\"dataframe\">\n",
       "  <thead>\n",
       "    <tr style=\"text-align: right;\">\n",
       "      <th></th>\n",
       "      <th>uniprot_id</th>\n",
       "      <th>Entry Name</th>\n",
       "      <th>Gene Names</th>\n",
       "      <th>Organism</th>\n",
       "      <th>Length</th>\n",
       "      <th>Annotation</th>\n",
       "      <th>last_seq_update</th>\n",
       "    </tr>\n",
       "  </thead>\n",
       "  <tbody>\n",
       "    <tr>\n",
       "      <th>0</th>\n",
       "      <td>A0A009IHW8</td>\n",
       "      <td>ABTIR_ACIB9</td>\n",
       "      <td>J512_3302</td>\n",
       "      <td>Acinetobacter baumannii (strain 1295743)</td>\n",
       "      <td>269</td>\n",
       "      <td>5.0</td>\n",
       "      <td>2014-06-11</td>\n",
       "    </tr>\n",
       "    <tr>\n",
       "      <th>1</th>\n",
       "      <td>A0A023I7E1</td>\n",
       "      <td>ENG1_RHIMI</td>\n",
       "      <td>ENG1 LAM81A</td>\n",
       "      <td>Rhizomucor miehei</td>\n",
       "      <td>796</td>\n",
       "      <td>5.0</td>\n",
       "      <td>2014-07-09</td>\n",
       "    </tr>\n",
       "    <tr>\n",
       "      <th>2</th>\n",
       "      <td>A0A024B7W1</td>\n",
       "      <td>POLG_ZIKVF</td>\n",
       "      <td>NaN</td>\n",
       "      <td>Zika virus (isolate ZIKV/Human/French Polynesi...</td>\n",
       "      <td>3423</td>\n",
       "      <td>5.0</td>\n",
       "      <td>2014-07-09</td>\n",
       "    </tr>\n",
       "    <tr>\n",
       "      <th>3</th>\n",
       "      <td>A0A024SC78</td>\n",
       "      <td>CUTI1_HYPJR</td>\n",
       "      <td>M419DRAFT_76732</td>\n",
       "      <td>Hypocrea jecorina (strain ATCC 56765 / BCRC 32...</td>\n",
       "      <td>248</td>\n",
       "      <td>5.0</td>\n",
       "      <td>2014-07-09</td>\n",
       "    </tr>\n",
       "    <tr>\n",
       "      <th>4</th>\n",
       "      <td>A0A024SH76</td>\n",
       "      <td>GUX2_HYPJR</td>\n",
       "      <td>cbh2 M419DRAFT_122470</td>\n",
       "      <td>Hypocrea jecorina (strain ATCC 56765 / BCRC 32...</td>\n",
       "      <td>471</td>\n",
       "      <td>5.0</td>\n",
       "      <td>2014-07-09</td>\n",
       "    </tr>\n",
       "  </tbody>\n",
       "</table>\n",
       "</div>"
      ],
      "text/plain": [
       "   uniprot_id   Entry Name             Gene Names  \\\n",
       "0  A0A009IHW8  ABTIR_ACIB9              J512_3302   \n",
       "1  A0A023I7E1   ENG1_RHIMI            ENG1 LAM81A   \n",
       "2  A0A024B7W1   POLG_ZIKVF                    NaN   \n",
       "3  A0A024SC78  CUTI1_HYPJR        M419DRAFT_76732   \n",
       "4  A0A024SH76   GUX2_HYPJR  cbh2 M419DRAFT_122470   \n",
       "\n",
       "                                            Organism  Length  Annotation  \\\n",
       "0           Acinetobacter baumannii (strain 1295743)     269         5.0   \n",
       "1                                  Rhizomucor miehei     796         5.0   \n",
       "2  Zika virus (isolate ZIKV/Human/French Polynesi...    3423         5.0   \n",
       "3  Hypocrea jecorina (strain ATCC 56765 / BCRC 32...     248         5.0   \n",
       "4  Hypocrea jecorina (strain ATCC 56765 / BCRC 32...     471         5.0   \n",
       "\n",
       "  last_seq_update  \n",
       "0      2014-06-11  \n",
       "1      2014-07-09  \n",
       "2      2014-07-09  \n",
       "3      2014-07-09  \n",
       "4      2014-07-09  "
      ]
     },
     "execution_count": 4,
     "metadata": {},
     "output_type": "execute_result"
    }
   ],
   "source": [
    "swissprot_summary = (\n",
    "    pd.read_table(os.path.join(\n",
    "        data_dir,\n",
    "        \"uniprot\",\n",
    "        \"uniprotkb_AND_reviewed_true_2025_01_22.tsv.gz\",\n",
    "    ))\n",
    "    .rename(columns={\n",
    "        \"Entry\": \"uniprot_id\",\n",
    "        \"Date of last sequence modification\": \"last_seq_update\",\n",
    "    })\n",
    "    .assign(\n",
    "        last_seq_update=lambda x: pd.to_datetime(x[\"last_seq_update\"]),\n",
    "    )\n",
    ")\n",
    "print(len(swissprot_summary))\n",
    "swissprot_summary.head()"
   ]
  },
  {
   "cell_type": "code",
   "execution_count": 5,
   "metadata": {},
   "outputs": [
    {
     "data": {
      "text/html": [
       "<div>\n",
       "<style scoped>\n",
       "    .dataframe tbody tr th:only-of-type {\n",
       "        vertical-align: middle;\n",
       "    }\n",
       "\n",
       "    .dataframe tbody tr th {\n",
       "        vertical-align: top;\n",
       "    }\n",
       "\n",
       "    .dataframe thead th {\n",
       "        text-align: right;\n",
       "    }\n",
       "</style>\n",
       "<table border=\"1\" class=\"dataframe\">\n",
       "  <thead>\n",
       "    <tr style=\"text-align: right;\">\n",
       "      <th></th>\n",
       "      <th>uniprot_id</th>\n",
       "      <th>x1</th>\n",
       "      <th>x2</th>\n",
       "      <th>x3</th>\n",
       "      <th>x4</th>\n",
       "    </tr>\n",
       "  </thead>\n",
       "  <tbody>\n",
       "    <tr>\n",
       "      <th>0</th>\n",
       "      <td>Q6GZX4</td>\n",
       "      <td>256</td>\n",
       "      <td>122</td>\n",
       "      <td>60</td>\n",
       "      <td>61</td>\n",
       "    </tr>\n",
       "    <tr>\n",
       "      <th>1</th>\n",
       "      <td>Q6GZX3</td>\n",
       "      <td>320</td>\n",
       "      <td>499</td>\n",
       "      <td>60</td>\n",
       "      <td>61</td>\n",
       "    </tr>\n",
       "    <tr>\n",
       "      <th>2</th>\n",
       "      <td>Q197F8</td>\n",
       "      <td>458</td>\n",
       "      <td>943</td>\n",
       "      <td>60</td>\n",
       "      <td>61</td>\n",
       "    </tr>\n",
       "    <tr>\n",
       "      <th>3</th>\n",
       "      <td>Q197F7</td>\n",
       "      <td>156</td>\n",
       "      <td>1527</td>\n",
       "      <td>60</td>\n",
       "      <td>61</td>\n",
       "    </tr>\n",
       "    <tr>\n",
       "      <th>4</th>\n",
       "      <td>Q6GZX2</td>\n",
       "      <td>438</td>\n",
       "      <td>1800</td>\n",
       "      <td>60</td>\n",
       "      <td>61</td>\n",
       "    </tr>\n",
       "  </tbody>\n",
       "</table>\n",
       "</div>"
      ],
      "text/plain": [
       "  uniprot_id   x1    x2  x3  x4\n",
       "0     Q6GZX4  256   122  60  61\n",
       "1     Q6GZX3  320   499  60  61\n",
       "2     Q197F8  458   943  60  61\n",
       "3     Q197F7  156  1527  60  61\n",
       "4     Q6GZX2  438  1800  60  61"
      ]
     },
     "execution_count": 5,
     "metadata": {},
     "output_type": "execute_result"
    }
   ],
   "source": [
    "old_swissprot = (\n",
    "    pd.read_table(\n",
    "        \"/weka/scratch/weka/kellislab/rcalef/data/uniprot/swissprot_2021_04/uniprot_sprot.fasta.gz.fai\",\n",
    "        names=[\"uniprot_id\", \"x1\", \"x2\", \"x3\", \"x4\"],\n",
    "    )\n",
    "    .assign(\n",
    "        uniprot_id=lambda x: x.uniprot_id.str.split(\"|\").str[1],\n",
    "    )\n",
    ")\n",
    "old_swissprot.head()"
   ]
  },
  {
   "cell_type": "code",
   "execution_count": 6,
   "metadata": {},
   "outputs": [
    {
     "name": "stdout",
     "output_type": "stream",
     "text": [
      "564095\n"
     ]
    },
    {
     "data": {
      "text/html": [
       "<div>\n",
       "<style scoped>\n",
       "    .dataframe tbody tr th:only-of-type {\n",
       "        vertical-align: middle;\n",
       "    }\n",
       "\n",
       "    .dataframe tbody tr th {\n",
       "        vertical-align: top;\n",
       "    }\n",
       "\n",
       "    .dataframe thead th {\n",
       "        text-align: right;\n",
       "    }\n",
       "</style>\n",
       "<table border=\"1\" class=\"dataframe\">\n",
       "  <thead>\n",
       "    <tr style=\"text-align: right;\">\n",
       "      <th></th>\n",
       "      <th>uniprot_id</th>\n",
       "      <th>Entry Name</th>\n",
       "      <th>Gene Names</th>\n",
       "      <th>Organism</th>\n",
       "      <th>Length</th>\n",
       "      <th>Annotation</th>\n",
       "      <th>last_seq_update</th>\n",
       "    </tr>\n",
       "  </thead>\n",
       "  <tbody>\n",
       "    <tr>\n",
       "      <th>0</th>\n",
       "      <td>A0A009IHW8</td>\n",
       "      <td>ABTIR_ACIB9</td>\n",
       "      <td>J512_3302</td>\n",
       "      <td>Acinetobacter baumannii (strain 1295743)</td>\n",
       "      <td>269</td>\n",
       "      <td>5.0</td>\n",
       "      <td>2014-06-11</td>\n",
       "    </tr>\n",
       "    <tr>\n",
       "      <th>2</th>\n",
       "      <td>A0A024B7W1</td>\n",
       "      <td>POLG_ZIKVF</td>\n",
       "      <td>NaN</td>\n",
       "      <td>Zika virus (isolate ZIKV/Human/French Polynesi...</td>\n",
       "      <td>3423</td>\n",
       "      <td>5.0</td>\n",
       "      <td>2014-07-09</td>\n",
       "    </tr>\n",
       "    <tr>\n",
       "      <th>4</th>\n",
       "      <td>A0A024SH76</td>\n",
       "      <td>GUX2_HYPJR</td>\n",
       "      <td>cbh2 M419DRAFT_122470</td>\n",
       "      <td>Hypocrea jecorina (strain ATCC 56765 / BCRC 32...</td>\n",
       "      <td>471</td>\n",
       "      <td>5.0</td>\n",
       "      <td>2014-07-09</td>\n",
       "    </tr>\n",
       "    <tr>\n",
       "      <th>5</th>\n",
       "      <td>A0A026W182</td>\n",
       "      <td>ORCO_OOCBI</td>\n",
       "      <td>Orco X777_12371</td>\n",
       "      <td>Ooceraea biroi (Clonal raider ant) (Cerapachys...</td>\n",
       "      <td>478</td>\n",
       "      <td>5.0</td>\n",
       "      <td>2014-07-09</td>\n",
       "    </tr>\n",
       "    <tr>\n",
       "      <th>6</th>\n",
       "      <td>A0A044RE18</td>\n",
       "      <td>BLI_ONCVO</td>\n",
       "      <td>Bli</td>\n",
       "      <td>Onchocerca volvulus</td>\n",
       "      <td>693</td>\n",
       "      <td>5.0</td>\n",
       "      <td>2014-07-09</td>\n",
       "    </tr>\n",
       "  </tbody>\n",
       "</table>\n",
       "</div>"
      ],
      "text/plain": [
       "   uniprot_id   Entry Name             Gene Names  \\\n",
       "0  A0A009IHW8  ABTIR_ACIB9              J512_3302   \n",
       "2  A0A024B7W1   POLG_ZIKVF                    NaN   \n",
       "4  A0A024SH76   GUX2_HYPJR  cbh2 M419DRAFT_122470   \n",
       "5  A0A026W182   ORCO_OOCBI        Orco X777_12371   \n",
       "6  A0A044RE18    BLI_ONCVO                    Bli   \n",
       "\n",
       "                                            Organism  Length  Annotation  \\\n",
       "0           Acinetobacter baumannii (strain 1295743)     269         5.0   \n",
       "2  Zika virus (isolate ZIKV/Human/French Polynesi...    3423         5.0   \n",
       "4  Hypocrea jecorina (strain ATCC 56765 / BCRC 32...     471         5.0   \n",
       "5  Ooceraea biroi (Clonal raider ant) (Cerapachys...     478         5.0   \n",
       "6                                Onchocerca volvulus     693         5.0   \n",
       "\n",
       "  last_seq_update  \n",
       "0      2014-06-11  \n",
       "2      2014-07-09  \n",
       "4      2014-07-09  \n",
       "5      2014-07-09  \n",
       "6      2014-07-09  "
      ]
     },
     "execution_count": 6,
     "metadata": {},
     "output_type": "execute_result"
    }
   ],
   "source": [
    "want_swissprot = (\n",
    "    swissprot_summary\n",
    "    # In the version of SwissProt used by AlphaFoldDB\n",
    "    .loc[lambda x: x.uniprot_id.isin(old_swissprot.uniprot_id)]\n",
    "    # Sequence hasn't changed since AlphaFoldDB was created\n",
    "    .loc[lambda x: x.last_seq_update < pd.to_datetime(\"2021-05\")]\n",
    ")\n",
    "print(len(want_swissprot))\n",
    "want_swissprot.head()"
   ]
  },
  {
   "cell_type": "code",
   "execution_count": 7,
   "metadata": {},
   "outputs": [],
   "source": [
    "(\n",
    "    want_swissprot\n",
    "    [[\"uniprot_id\"]]\n",
    "    .to_csv(os.path.join(\n",
    "        data_dir,\n",
    "        \"uniprot\",\n",
    "        \"swissprot_subset.tsv\",\n",
    "    ), index=False, header=False)\n",
    ")"
   ]
  },
  {
   "cell_type": "code",
   "execution_count": 8,
   "metadata": {},
   "outputs": [
    {
     "data": {
      "text/plain": [
       "548484"
      ]
     },
     "execution_count": 8,
     "metadata": {},
     "output_type": "execute_result"
    }
   ],
   "source": [
    "swissprot_pkl_path = \"/weka/scratch/weka/kellislab/rcalef/data/interpro/103.0/swissprot/swissprot_prots.pkl.bz2\"\n",
    "\n",
    "interpro_swissprot_ids = pd.Series([x.uniprot_id for x in parse_from_pkl(swissprot_pkl_path, compression=\"bz2\")])\n",
    "len(interpro_swissprot_ids)"
   ]
  },
  {
   "cell_type": "code",
   "execution_count": 9,
   "metadata": {},
   "outputs": [
    {
     "data": {
      "text/plain": [
       "15611"
      ]
     },
     "execution_count": 9,
     "metadata": {},
     "output_type": "execute_result"
    }
   ],
   "source": [
    "missing = want_swissprot.loc[lambda x: ~x.uniprot_id.isin(interpro_swissprot_ids)]\n",
    "len(missing)"
   ]
  },
  {
   "cell_type": "code",
   "execution_count": 10,
   "metadata": {},
   "outputs": [
    {
     "data": {
      "text/html": [
       "<div>\n",
       "<style scoped>\n",
       "    .dataframe tbody tr th:only-of-type {\n",
       "        vertical-align: middle;\n",
       "    }\n",
       "\n",
       "    .dataframe tbody tr th {\n",
       "        vertical-align: top;\n",
       "    }\n",
       "\n",
       "    .dataframe thead th {\n",
       "        text-align: right;\n",
       "    }\n",
       "</style>\n",
       "<table border=\"1\" class=\"dataframe\">\n",
       "  <thead>\n",
       "    <tr style=\"text-align: right;\">\n",
       "      <th></th>\n",
       "      <th>uniprot_id</th>\n",
       "      <th>Entry Name</th>\n",
       "      <th>Gene Names</th>\n",
       "      <th>Organism</th>\n",
       "      <th>Length</th>\n",
       "      <th>Annotation</th>\n",
       "      <th>last_seq_update</th>\n",
       "    </tr>\n",
       "  </thead>\n",
       "  <tbody>\n",
       "    <tr>\n",
       "      <th>61</th>\n",
       "      <td>A0A0A1I6E7</td>\n",
       "      <td>NDB4S_ANDCR</td>\n",
       "      <td>NaN</td>\n",
       "      <td>Androctonus crassicauda (Arabian fat-tailed sc...</td>\n",
       "      <td>74</td>\n",
       "      <td>5.0</td>\n",
       "      <td>2015-02-04</td>\n",
       "    </tr>\n",
       "    <tr>\n",
       "      <th>62</th>\n",
       "      <td>A0A0A1I6N9</td>\n",
       "      <td>NDB4T_ANDCR</td>\n",
       "      <td>NaN</td>\n",
       "      <td>Androctonus crassicauda (Arabian fat-tailed sc...</td>\n",
       "      <td>74</td>\n",
       "      <td>5.0</td>\n",
       "      <td>2015-02-04</td>\n",
       "    </tr>\n",
       "    <tr>\n",
       "      <th>204</th>\n",
       "      <td>A0A0N7CSQ4</td>\n",
       "      <td>TX41A_SCOMU</td>\n",
       "      <td>NaN</td>\n",
       "      <td>Scolopendra mutilans (Chinese red-headed centi...</td>\n",
       "      <td>68</td>\n",
       "      <td>5.0</td>\n",
       "      <td>2019-04-10</td>\n",
       "    </tr>\n",
       "    <tr>\n",
       "      <th>241</th>\n",
       "      <td>A0A139GI49</td>\n",
       "      <td>KAWA_MICA8</td>\n",
       "      <td>kgpE OA58_19045</td>\n",
       "      <td>Microcystis aeruginosa (strain NIES-88 / KW-MA...</td>\n",
       "      <td>87</td>\n",
       "      <td>5.0</td>\n",
       "      <td>2016-06-08</td>\n",
       "    </tr>\n",
       "    <tr>\n",
       "      <th>251</th>\n",
       "      <td>A0A144LUY5</td>\n",
       "      <td>CTCN1_ECHES</td>\n",
       "      <td>NaN</td>\n",
       "      <td>Echinus esculentus (Sea urchin)</td>\n",
       "      <td>119</td>\n",
       "      <td>5.0</td>\n",
       "      <td>2016-06-08</td>\n",
       "    </tr>\n",
       "  </tbody>\n",
       "</table>\n",
       "</div>"
      ],
      "text/plain": [
       "     uniprot_id   Entry Name       Gene Names  \\\n",
       "61   A0A0A1I6E7  NDB4S_ANDCR              NaN   \n",
       "62   A0A0A1I6N9  NDB4T_ANDCR              NaN   \n",
       "204  A0A0N7CSQ4  TX41A_SCOMU              NaN   \n",
       "241  A0A139GI49   KAWA_MICA8  kgpE OA58_19045   \n",
       "251  A0A144LUY5  CTCN1_ECHES              NaN   \n",
       "\n",
       "                                              Organism  Length  Annotation  \\\n",
       "61   Androctonus crassicauda (Arabian fat-tailed sc...      74         5.0   \n",
       "62   Androctonus crassicauda (Arabian fat-tailed sc...      74         5.0   \n",
       "204  Scolopendra mutilans (Chinese red-headed centi...      68         5.0   \n",
       "241  Microcystis aeruginosa (strain NIES-88 / KW-MA...      87         5.0   \n",
       "251                    Echinus esculentus (Sea urchin)     119         5.0   \n",
       "\n",
       "    last_seq_update  \n",
       "61       2015-02-04  \n",
       "62       2015-02-04  \n",
       "204      2019-04-10  \n",
       "241      2016-06-08  \n",
       "251      2016-06-08  "
      ]
     },
     "execution_count": 10,
     "metadata": {},
     "output_type": "execute_result"
    }
   ],
   "source": [
    "# Checked these manually, all are missing from InterPro\n",
    "missing.head()"
   ]
  },
  {
   "cell_type": "code",
   "execution_count": 11,
   "metadata": {},
   "outputs": [
    {
     "name": "stdout",
     "output_type": "stream",
     "text": [
      "found 530601 / 548484 (17883 missing)\n"
     ]
    }
   ],
   "source": [
    "cif_tmpl = \"/weka/scratch/weka/kellislab/rcalef/data/cif_alphafolddb/AF-%s-F1-model_v4.cif.gz\"\n",
    "\n",
    "num = 0\n",
    "num_found = 0\n",
    "missing_from_afdb = []\n",
    "for prot_id in interpro_swissprot_ids:\n",
    "    num += 1\n",
    "    if os.path.exists(cif_tmpl % prot_id):\n",
    "        num_found += 1\n",
    "    else:\n",
    "        missing_from_afdb.append(prot_id)\n",
    "print(f\"found {num_found} / {num} ({len(missing_from_afdb)} missing)\")"
   ]
  },
  {
   "cell_type": "code",
   "execution_count": 12,
   "metadata": {},
   "outputs": [
    {
     "data": {
      "text/plain": [
       "['A0A023GS29', 'A0A024B7W1', 'A0A024F910', 'A0A061FLA2', 'A0A075TJ05']"
      ]
     },
     "execution_count": 12,
     "metadata": {},
     "output_type": "execute_result"
    }
   ],
   "source": [
    "missing_from_afdb[:5]"
   ]
  },
  {
   "cell_type": "code",
   "execution_count": 14,
   "metadata": {},
   "outputs": [
    {
     "data": {
      "text/plain": [
       "530601"
      ]
     },
     "execution_count": 14,
     "metadata": {},
     "output_type": "execute_result"
    }
   ],
   "source": [
    "final_set = [x.uniprot_id for x in parse_from_dir(\"/weka/scratch/weka/kellislab/rcalef/data/interpro/103.0/swissprot/sharded_swissprot/with_ss\", prefix=\"swissprot.with_ss\")]\n",
    "len(final_set)"
   ]
  }
 ],
 "metadata": {
  "kernelspec": {
   "display_name": "Python 3 (ipykernel)",
   "language": "python",
   "name": "python3"
  },
  "language_info": {
   "codemirror_mode": {
    "name": "ipython",
    "version": 3
   },
   "file_extension": ".py",
   "mimetype": "text/x-python",
   "name": "python",
   "nbconvert_exporter": "python",
   "pygments_lexer": "ipython3",
   "version": "3.11.4"
  }
 },
 "nbformat": 4,
 "nbformat_minor": 2
}
