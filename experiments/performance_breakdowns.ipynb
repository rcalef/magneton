{
 "cells": [
  {
   "cell_type": "code",
   "execution_count": 1,
   "metadata": {},
   "outputs": [],
   "source": [
    "%load_ext autoreload\n",
    "%autoreload 2"
   ]
  },
  {
   "cell_type": "code",
   "execution_count": 2,
   "metadata": {},
   "outputs": [],
   "source": [
    "import os\n",
    "\n",
    "from collections import defaultdict\n",
    "from pathlib import Path\n",
    "from operator import itemgetter\n",
    "from typing import Dict, List, Optional, Tuple\n",
    "\n",
    "import matplotlib.pyplot as plt\n",
    "import numpy as np\n",
    "import pandas as pd\n",
    "import seaborn as sns"
   ]
  },
  {
   "cell_type": "code",
   "execution_count": 3,
   "metadata": {},
   "outputs": [],
   "source": [
    "interpro_path = Path(\"/weka/scratch/weka/kellislab/rcalef/data/interpro/103.0/\")\n",
    "dataset_path = interpro_path / \"swissprot/sharded_swissprot/with_ss/dataset_splits/seq_splits/\"\n",
    "labels_path = interpro_path / \"label_sets/selected_subset\"\n",
    "\n",
    "evals_path = Path(\"/net/vast-storage/scratch/vast/kellislab/artliang/magneton/magneton/tests/esmc/\")\n",
    "\n",
    "outpath = Path(\"~/temp/figs/\").expanduser()\n",
    "os.makedirs(outpath, exist_ok=True)"
   ]
  },
  {
   "cell_type": "code",
   "execution_count": 4,
   "metadata": {},
   "outputs": [
    {
     "name": "stdout",
     "output_type": "stream",
     "text": [
      "InterPro type: Domain: 32305 rows, raw accuracy: 0.960\n",
      "InterPro type: Homologous_superfamily: 104754 rows, raw accuracy: 0.886\n"
     ]
    }
   ],
   "source": [
    "types_with_evals = [\n",
    "    \"Domain\",\n",
    "    \"Homologous_superfamily\",\n",
    "]\n",
    "\n",
    "results = {\n",
    "    interpro_type: pd.read_csv(evals_path / f\"final_evaluation_results_esmc_{interpro_type}.csv\")\n",
    "    for interpro_type in types_with_evals\n",
    "}\n",
    "\n",
    "for interpro_type, df in results.items():\n",
    "    raw_acc = (df.true_labels == df.pred_labels).mean()\n",
    "    print(f\"InterPro type: {interpro_type}: {len(df)} rows, raw accuracy: {raw_acc:.3f}\")\n"
   ]
  },
  {
   "cell_type": "code",
   "execution_count": 5,
   "metadata": {},
   "outputs": [
    {
     "name": "stdout",
     "output_type": "stream",
     "text": [
      "InterPro type: Domain: 15868 types in train set\n",
      "InterPro type: Homologous_superfamily: 3511 types in train set\n"
     ]
    }
   ],
   "source": [
    "# Load train set stats and label mappers\n",
    "train_set_stats_path = dataset_path / \"train_sharded\" / \"summary_stats\"\n",
    "\n",
    "label_maps = {\n",
    "    interpro_type: {\n",
    "        interpro_id: label for (interpro_id, label) in\n",
    "        (pd.read_table(labels_path / f\"{interpro_type}.labels.tsv\")\n",
    "         [[\"interpro_id\", \"label\"]]\n",
    "         .itertuples(index=False))\n",
    "    }\n",
    "    for interpro_type in types_with_evals\n",
    "}\n",
    "\n",
    "stats_dfs = {\n",
    "    interpro_type: (\n",
    "        pd.read_table(train_set_stats_path / f\"{interpro_type}_summaries.tsv\")\n",
    "        .assign(label=lambda x: x.element_id.map(label_maps[interpro_type]))\n",
    "    )\n",
    "    for interpro_type in types_with_evals\n",
    "}\n",
    "\n",
    "\n",
    "for interpro_type, df in stats_dfs.items():\n",
    "    print(f\"InterPro type: {interpro_type}: {len(df)} types in train set\")"
   ]
  },
  {
   "cell_type": "code",
   "execution_count": 6,
   "metadata": {},
   "outputs": [],
   "source": [
    "def per_type_perf_plot(\n",
    "    interpro_type: str,\n",
    "    truncate_q: Optional[float]=0.99,\n",
    "):\n",
    "    per_type_res = (\n",
    "        results[interpro_type]\n",
    "        .assign(\n",
    "            correct=lambda x: x.true_labels == x.pred_labels,\n",
    "            count=1,\n",
    "        )\n",
    "        [[\"true_labels\", \"correct\", \"count\"]]\n",
    "        .groupby(\"true_labels\")\n",
    "        .agg({\n",
    "            \"correct\": \"mean\",\n",
    "            \"count\": \"sum\",\n",
    "        })\n",
    "        .reset_index(names=\"label\")\n",
    "        .merge(\n",
    "            stats_dfs[interpro_type].rename(columns={\"count\":\"train_set_count\"}),\n",
    "            on=\"label\",\n",
    "            how=\"left\",\n",
    "        )\n",
    "    )\n",
    "    assert not per_type_res.train_set_count.isna().any()\n",
    "\n",
    "\n",
    "\n",
    "    with sns.plotting_context(\"notebook\"):\n",
    "        sns.jointplot(\n",
    "            x=\"train_set_count\",\n",
    "            y=\"correct\",\n",
    "            data=per_type_res,\n",
    "            joint_kws={\n",
    "                \"alpha\": 0.3,\n",
    "            },\n",
    "        )\n",
    "        # Truncate due to some outliers that are highly represented\n",
    "        if truncate_q:\n",
    "            xmax = stats_dfs[interpro_type][\"count\"].quantile(truncate_q)\n",
    "            plt.xlim(0, xmax)\n",
    "        plt.xlabel(\"# times element appears in train set\")\n",
    "        plt.ylabel(\"Per element\\ntest set accuracy\", rotation=\"horizontal\", ha=\"right\")\n",
    "        plt.suptitle(f\"Performance by {interpro_type.lower().replace('_', ' ')} representation in train set\", y=1)"
   ]
  },
  {
   "cell_type": "code",
   "execution_count": 7,
   "metadata": {},
   "outputs": [],
   "source": [
    "def acc_by_per_prot_num(\n",
    "    interpro_type: str,\n",
    "):\n",
    "    res = results[interpro_type]\n",
    "    type_per_prot = res.protein_ids.value_counts().to_frame()\n",
    "\n",
    "    per_prot_res = (\n",
    "        res\n",
    "        .assign(correct=lambda x: x.true_labels == x.pred_labels)\n",
    "        [[\"protein_ids\", \"correct\"]]\n",
    "        .groupby(\"protein_ids\")\n",
    "        .agg({\n",
    "            \"correct\": \"mean\",\n",
    "        })\n",
    "        .join(type_per_prot)\n",
    "    )\n",
    "\n",
    "    acc_by_count = (\n",
    "        per_prot_res\n",
    "        .groupby(\"count\")\n",
    "        .correct\n",
    "        .describe()\n",
    "        .rename_axis(index=\"num_domains\")\n",
    "        .reset_index()\n",
    "    )\n",
    "\n",
    "    with sns.plotting_context(\"notebook\"):\n",
    "        ax = sns.barplot(\n",
    "            x=\"count\",\n",
    "            y=\"correct\",\n",
    "            data=per_prot_res,\n",
    "            alpha=0.7,\n",
    "            edgecolor=\"k\",\n",
    "        )\n",
    "        _ = ax.bar_label(\n",
    "            ax.containers[0],\n",
    "            labels=acc_by_count[\"count\"].astype(int),\n",
    "            label_type=\"center\",\n",
    "            fontsize=12,\n",
    "        )\n",
    "        sns.despine()\n",
    "        ax.set_xlabel(f\"Number of {interpro_type.lower()}s per protein\")\n",
    "        ax.set_ylabel(\n",
    "            \"Average accuracy\\nper protein\",\n",
    "            rotation=\"horizontal\",\n",
    "            ha=\"right\",\n",
    "        )"
   ]
  },
  {
   "cell_type": "code",
   "execution_count": 8,
   "metadata": {},
   "outputs": [],
   "source": [
    "for interpro_type in types_with_evals:\n",
    "    per_type_perf_plot(interpro_type)\n",
    "    plt.savefig(outpath / f\"per_type_perf_{interpro_type}.pdf\", bbox_inches=\"tight\")\n",
    "    plt.close()\n",
    "\n",
    "    acc_by_per_prot_num(interpro_type)\n",
    "    plt.savefig(outpath / f\"acc_by_per_prot_num_{interpro_type}.pdf\", bbox_inches=\"tight\")\n",
    "    plt.close()"
   ]
  },
  {
   "cell_type": "code",
   "execution_count": null,
   "metadata": {},
   "outputs": [],
   "source": []
  }
 ],
 "metadata": {
  "kernelspec": {
   "display_name": "Python 3 (ipykernel)",
   "language": "python",
   "name": "python3"
  },
  "language_info": {
   "codemirror_mode": {
    "name": "ipython",
    "version": 3
   },
   "file_extension": ".py",
   "mimetype": "text/x-python",
   "name": "python",
   "nbconvert_exporter": "python",
   "pygments_lexer": "ipython3",
   "version": "3.11.4"
  }
 },
 "nbformat": 4,
 "nbformat_minor": 2
}
