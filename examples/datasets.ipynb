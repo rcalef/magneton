{
 "cells": [
  {
   "cell_type": "code",
   "execution_count": 1,
   "metadata": {},
   "outputs": [],
   "source": [
    "%load_ext autoreload\n",
    "%autoreload 2"
   ]
  },
  {
   "cell_type": "code",
   "execution_count": 2,
   "metadata": {},
   "outputs": [],
   "source": [
    "import os\n",
    "from pathlib import Path\n",
    "\n",
    "import pandas as pd"
   ]
  },
  {
   "cell_type": "code",
   "execution_count": 3,
   "metadata": {},
   "outputs": [],
   "source": [
    "# Replace with your path to the magneton-data huggingface dataset\n",
    "data_path = Path(\"/weka/scratch/weka/kellislab/rcalef/data/magneton-data\")\n",
    "\n",
    "fasta_path = (\n",
    "    data_path /\n",
    "    \"sequences\" /\n",
    "    \"uniprot_sprot.fasta.gz\"\n",
    ")"
   ]
  },
  {
   "cell_type": "markdown",
   "metadata": {},
   "source": [
    "# Core types overview"
   ]
  },
  {
   "cell_type": "markdown",
   "metadata": {},
   "source": [
    "The core datasets used in this repo pertain to protein substructures, i.e. small subsets of a protein's overall 3D structure that are evolutionarily conserved and observed across many distinct proteins.  These sub-structures form the lower-level building blocks that make up the 3D strucutre of a full-length protein, and some also have distinct functions.\n",
    "\n",
    "We use two main sources for our substructure annotations:\n",
    "- InterPro: \"provides functional analysis of proteins by classifying them into families and predicting domains and important sites\". InterPro annotations include functional domains, binding sites, and higher-order structural groupings like protein families.\n",
    "- DSSP: provides annotation of secondary structure elements given an experimental or predicted protein structure\n",
    "\n",
    "In this notebook, we explore the representation of these datatypes in our current codebase."
   ]
  },
  {
   "cell_type": "markdown",
   "metadata": {},
   "source": [
    "The core types are defined in `magneton/types.py`, the most notable of which is the `Protein` class.\n",
    "\n",
    "```\n",
    "@dataclass\n",
    "class Protein:\n",
    "    uniprot_id: str\n",
    "    kb_id: str\n",
    "    name: str\n",
    "    length: int\n",
    "    parsed_entries: int\n",
    "    total_entries: int\n",
    "    entries: List[InterproEntry]\n",
    "    secondary_structs: List[SecondaryStructure] = field(default_factory=list)\n",
    "```\n",
    "\n",
    "This class represents a single protein, specified by a UniProt ID, and provides its InterPro annotations and secondary structure predictions.\n",
    "\n",
    "These `Protein` objects are currently stored as Python pickle files."
   ]
  },
  {
   "cell_type": "code",
   "execution_count": 4,
   "metadata": {},
   "outputs": [],
   "source": [
    "from magneton.io.internal import parse_from_pkl"
   ]
  },
  {
   "cell_type": "code",
   "execution_count": 5,
   "metadata": {},
   "outputs": [
    {
     "name": "stdout",
     "output_type": "stream",
     "text": [
      "Protein(uniprot_id='A0A009IHW8',\n",
      "        kb_id='sp|A0A009IHW8|ABTIR_ACIB9',\n",
      "        name='ABTIR_ACIB9',\n",
      "        length=269,\n",
      "        parsed_entries=5,\n",
      "        total_entries=5,\n",
      "        entries=[InterproEntry(id='IPR035897',\n",
      "                               element_type='Homologous_superfamily',\n",
      "                               match_id='G3DSA:3.40.50.10140',\n",
      "                               element_name='Toll/interleukin-1 receptor '\n",
      "                                            'homology (TIR) domain superfamily',\n",
      "                               representative=False,\n",
      "                               positions=[(80, 266)]),\n",
      "                 InterproEntry(id='IPR000157',\n",
      "                               element_type='Domain',\n",
      "                               match_id='PF13676',\n",
      "                               element_name='Toll/interleukin-1 receptor '\n",
      "                                            'homology (TIR) domain',\n",
      "                               representative=False,\n",
      "                               positions=[(138, 231)]),\n",
      "                 InterproEntry(id='IPR000157',\n",
      "                               element_type='Domain',\n",
      "                               match_id='PS50104',\n",
      "                               element_name='Toll/interleukin-1 receptor '\n",
      "                                            'homology (TIR) domain',\n",
      "                               representative=True,\n",
      "                               positions=[(133, 266)]),\n",
      "                 InterproEntry(id='IPR000157',\n",
      "                               element_type='Domain',\n",
      "                               match_id='SM00255',\n",
      "                               element_name='Toll/interleukin-1 receptor '\n",
      "                                            'homology (TIR) domain',\n",
      "                               representative=False,\n",
      "                               positions=[(134, 258)]),\n",
      "                 InterproEntry(id='IPR035897',\n",
      "                               element_type='Homologous_superfamily',\n",
      "                               match_id='SSF52200',\n",
      "                               element_name='Toll/interleukin-1 receptor '\n",
      "                                            'homology (TIR) domain superfamily',\n",
      "                               representative=False,\n",
      "                               positions=[(128, 249)])],\n",
      "        secondary_structs=[SecondaryStructure(dssp_type=<DsspType.H: 0>,\n",
      "                                              start=3,\n",
      "                                              end=21),\n",
      "                           SecondaryStructure(dssp_type=<DsspType.T: 6>,\n",
      "                                              start=21,\n",
      "                                              end=22),\n",
      "                           SecondaryStructure(dssp_type=<DsspType.T: 6>,\n",
      "                                              start=24,\n",
      "                                              end=26),\n",
      "                           SecondaryStructure(dssp_type=<DsspType.H: 0>,\n",
      "                                              start=28,\n",
      "                                              end=127),\n",
      "                           SecondaryStructure(dssp_type=<DsspType.T: 6>,\n",
      "                                              start=127,\n",
      "                                              end=128),\n",
      "                           SecondaryStructure(dssp_type=<DsspType.S: 7>,\n",
      "                                              start=128,\n",
      "                                              end=129),\n",
      "                           SecondaryStructure(dssp_type=<DsspType.S: 7>,\n",
      "                                              start=130,\n",
      "                                              end=131),\n",
      "                           SecondaryStructure(dssp_type=<DsspType.S: 7>,\n",
      "                                              start=134,\n",
      "                                              end=135),\n",
      "                           SecondaryStructure(dssp_type=<DsspType.E: 2>,\n",
      "                                              start=135,\n",
      "                                              end=143),\n",
      "                           SecondaryStructure(dssp_type=<DsspType.G: 3>,\n",
      "                                              start=143,\n",
      "                                              end=146),\n",
      "                           SecondaryStructure(dssp_type=<DsspType.I: 4>,\n",
      "                                              start=146,\n",
      "                                              end=151),\n",
      "                           SecondaryStructure(dssp_type=<DsspType.H: 0>,\n",
      "                                              start=151,\n",
      "                                              end=160),\n",
      "                           SecondaryStructure(dssp_type=<DsspType.T: 6>,\n",
      "                                              start=160,\n",
      "                                              end=162),\n",
      "                           SecondaryStructure(dssp_type=<DsspType.E: 2>,\n",
      "                                              start=164,\n",
      "                                              end=166),\n",
      "                           SecondaryStructure(dssp_type=<DsspType.G: 3>,\n",
      "                                              start=167,\n",
      "                                              end=170),\n",
      "                           SecondaryStructure(dssp_type=<DsspType.E: 2>,\n",
      "                                              start=170,\n",
      "                                              end=172),\n",
      "                           SecondaryStructure(dssp_type=<DsspType.T: 6>,\n",
      "                                              start=173,\n",
      "                                              end=175),\n",
      "                           SecondaryStructure(dssp_type=<DsspType.H: 0>,\n",
      "                                              start=177,\n",
      "                                              end=188),\n",
      "                           SecondaryStructure(dssp_type=<DsspType.E: 2>,\n",
      "                                              start=188,\n",
      "                                              end=197),\n",
      "                           SecondaryStructure(dssp_type=<DsspType.H: 0>,\n",
      "                                              start=197,\n",
      "                                              end=201),\n",
      "                           SecondaryStructure(dssp_type=<DsspType.T: 6>,\n",
      "                                              start=201,\n",
      "                                              end=204),\n",
      "                           SecondaryStructure(dssp_type=<DsspType.H: 0>,\n",
      "                                              start=206,\n",
      "                                              end=215),\n",
      "                           SecondaryStructure(dssp_type=<DsspType.T: 6>,\n",
      "                                              start=215,\n",
      "                                              end=219),\n",
      "                           SecondaryStructure(dssp_type=<DsspType.S: 7>,\n",
      "                                              start=219,\n",
      "                                              end=222),\n",
      "                           SecondaryStructure(dssp_type=<DsspType.E: 2>,\n",
      "                                              start=223,\n",
      "                                              end=229),\n",
      "                           SecondaryStructure(dssp_type=<DsspType.S: 7>,\n",
      "                                              start=229,\n",
      "                                              end=230),\n",
      "                           SecondaryStructure(dssp_type=<DsspType.H: 0>,\n",
      "                                              start=232,\n",
      "                                              end=237),\n",
      "                           SecondaryStructure(dssp_type=<DsspType.T: 6>,\n",
      "                                              start=237,\n",
      "                                              end=239),\n",
      "                           SecondaryStructure(dssp_type=<DsspType.H: 0>,\n",
      "                                              start=240,\n",
      "                                              end=244),\n",
      "                           SecondaryStructure(dssp_type=<DsspType.T: 6>,\n",
      "                                              start=244,\n",
      "                                              end=245),\n",
      "                           SecondaryStructure(dssp_type=<DsspType.S: 7>,\n",
      "                                              start=245,\n",
      "                                              end=246),\n",
      "                           SecondaryStructure(dssp_type=<DsspType.E: 2>,\n",
      "                                              start=248,\n",
      "                                              end=250),\n",
      "                           SecondaryStructure(dssp_type=<DsspType.T: 6>,\n",
      "                                              start=250,\n",
      "                                              end=253),\n",
      "                           SecondaryStructure(dssp_type=<DsspType.S: 7>,\n",
      "                                              start=253,\n",
      "                                              end=254),\n",
      "                           SecondaryStructure(dssp_type=<DsspType.H: 0>,\n",
      "                                              start=255,\n",
      "                                              end=268),\n",
      "                           SecondaryStructure(dssp_type=<DsspType.T: 6>,\n",
      "                                              start=268,\n",
      "                                              end=269)])\n"
     ]
    }
   ],
   "source": [
    "pkl_path = (\n",
    "    data_path /\n",
    "    \"interpro_103.0\" /\n",
    "    \"seq_splits\" /\n",
    "    \"train_sharded\" /\n",
    "    \"swissprot.with_ss.train.0.pkl.bz2\"\n",
    ")\n",
    "\n",
    "example_prots = []\n",
    "for i, prot in enumerate(parse_from_pkl(pkl_path)):\n",
    "    example_prots.append(prot)\n",
    "    if i == 10:\n",
    "        break\n",
    "\n",
    "# The `print()` method just pretty prints the object.\n",
    "example_prots[0].print()"
   ]
  },
  {
   "cell_type": "markdown",
   "metadata": {},
   "source": [
    "In the above example, `parse_from_pkl` returns an iterator that reads `Protein` objects from the pickle file one at a time."
   ]
  },
  {
   "cell_type": "markdown",
   "metadata": {},
   "source": [
    "Each `Protein` object contains the corresponding protein's InterPro annotations as `InterproEntry` objects:\n",
    "```\n",
    "@dataclass\n",
    "class InterproEntry:\n",
    "    id: str\n",
    "    element_type: str\n",
    "    match_id: str\n",
    "    element_name: str\n",
    "    representative: bool\n",
    "    # Note that positions are 1-indexed, i.e. exactly as given in InterPro.\n",
    "    positions: List[Tuple[int]]\n",
    "```\n",
    "These objects specify the unique InterPro ID for this specific substructure annotation, what type of annotation it is (e.g. Domain, Family, etc.), and where it occurs in the given protein. Note that since these substructures occurr in 3D, they can be made up of amino acids that are not adjacent in the underlying amino acid sequence, hence being represented as a list of ranges."
   ]
  },
  {
   "cell_type": "code",
   "execution_count": 6,
   "metadata": {},
   "outputs": [
    {
     "name": "stdout",
     "output_type": "stream",
     "text": [
      "InterproEntry(id='IPR035897',\n",
      "              element_type='Homologous_superfamily',\n",
      "              match_id='G3DSA:3.40.50.10140',\n",
      "              element_name='Toll/interleukin-1 receptor homology (TIR) domain '\n",
      "                           'superfamily',\n",
      "              representative=False,\n",
      "              positions=[(80, 266)])\n"
     ]
    }
   ],
   "source": [
    "example_prots[0].entries[0].print()"
   ]
  },
  {
   "cell_type": "markdown",
   "metadata": {},
   "source": [
    "We also provide the secondary structure annotations as `SecondaryStructure` object, which just provides the type of secondary structure as an enum, and the contiguous range on the protein sequence (all secondary structures are contiguous):\n",
    "```\n",
    "@unique\n",
    "class DsspType(Enum):\n",
    "    H = 0\n",
    "    B = auto()\n",
    "    E = auto()\n",
    "    G = auto()\n",
    "    I = auto()\n",
    "    P = auto()\n",
    "    T = auto()\n",
    "    S = auto()\n",
    "    # In place of ' ' (space) for OTHER\n",
    "    X = auto()\n",
    "\n",
    "@dataclass\n",
    "class SecondaryStructure:\n",
    "    dssp_type: DsspType\n",
    "    # Note that positions are 1-indexed, as output by dssp.\n",
    "    # Coordinates are half-open, i.e. [start, end)\n",
    "    start: int\n",
    "    end: int\n",
    "```"
   ]
  },
  {
   "cell_type": "code",
   "execution_count": 7,
   "metadata": {},
   "outputs": [
    {
     "name": "stdout",
     "output_type": "stream",
     "text": [
      "Alphahelix: 3 - 21\n"
     ]
    }
   ],
   "source": [
    "example_prots[0].secondary_structs[0].print()"
   ]
  },
  {
   "cell_type": "markdown",
   "metadata": {},
   "source": [
    "# Dataset interface and implementation"
   ]
  },
  {
   "cell_type": "markdown",
   "metadata": {},
   "source": [
    "Our overarching dataset is UniProtKB, which contains over 200 million proteins. To work with a smaller dataset, we use the manually reviewed subset of UniProtKB, which is referred to as SwissProt and contains ~550k proteins. However, since this can still be a large and unwieldy dataset to store as a single file, we store the dataset as many files, i.e. as a \"sharded\" dataset. \n",
    "\n",
    "This means that we can choose to either process the dataset as a whole by reading all the shards in sequence, or can trivially parallelize any operation that operates on single `Protein`s by parallelizing over the many shards.\n",
    "\n",
    "To abstract whether the underlying dataset is a single file or a directory of sharded files, we introduce the `ShardedProteinDataset` object. Here we read a small number of proteins from a sharded directory.\n",
    "\n",
    "Note that we also define a simpler `InMemoryProteinDataset` for testing with smaller datasets."
   ]
  },
  {
   "cell_type": "code",
   "execution_count": 8,
   "metadata": {},
   "outputs": [],
   "source": [
    "from magneton.data import get_protein_dataset"
   ]
  },
  {
   "cell_type": "code",
   "execution_count": 9,
   "metadata": {},
   "outputs": [
    {
     "data": {
      "text/plain": [
       "423885"
      ]
     },
     "execution_count": 9,
     "metadata": {},
     "output_type": "execute_result"
    }
   ],
   "source": [
    "prot_dataset = get_protein_dataset(\n",
    "    input_path=(\n",
    "        data_path /\n",
    "        \"interpro_103.0\" /\n",
    "        \"seq_splits\" /\n",
    "        \"train_sharded\"\n",
    "    ),\n",
    "    # Provide the prefix for the sharded files, named like\n",
    "    # {prefix}.{shard_num}.pkl.bz2\n",
    "    prefix=\"swissprot.with_ss.train\",\n",
    ")\n",
    "len(prot_dataset)"
   ]
  },
  {
   "cell_type": "code",
   "execution_count": 10,
   "metadata": {},
   "outputs": [
    {
     "data": {
      "text/plain": [
       "15000"
      ]
     },
     "execution_count": 10,
     "metadata": {},
     "output_type": "execute_result"
    }
   ],
   "source": [
    "# These shards each contain 10000 proteins, so we'll demonstrate\n",
    "# reading from multiple shards seamlessly.\n",
    "example_prots = []\n",
    "for i, prot in enumerate(prot_dataset):\n",
    "    if i == 15000:\n",
    "        break\n",
    "    example_prots.append(prot)\n",
    "\n",
    "len(example_prots)"
   ]
  },
  {
   "cell_type": "markdown",
   "metadata": {},
   "source": [
    "To speed up fetching a single protein from the dataset, we also use an index to identify which shard a protein is contained in, and can then fetch just from that shard."
   ]
  },
  {
   "cell_type": "code",
   "execution_count": 11,
   "metadata": {},
   "outputs": [
    {
     "name": "stdout",
     "output_type": "stream",
     "text": [
      "Protein(uniprot_id='A1S1K5',\n",
      "        kb_id='sp|A1S1K5|TSAC_SHEAM',\n",
      "        name='TSAC_SHEAM',\n",
      "        length=187,\n",
      "        parsed_entries=6,\n",
      "        total_entries=7,\n",
      "        entries=[InterproEntry(id='IPR023535',\n",
      "                               element_type='Family',\n",
      "                               match_id='MF_01852',\n",
      "                               element_name='Threonylcarbamoyl-AMP synthase',\n",
      "                               representative=True,\n",
      "                               positions=[(3, 185)]),\n",
      "                 InterproEntry(id='IPR006070',\n",
      "                               element_type='Domain',\n",
      "                               match_id='PF01300',\n",
      "                               element_name='Threonylcarbamoyl-AMP '\n",
      "                                            'synthase-like domain',\n",
      "                               representative=False,\n",
      "                               positions=[(12, 187)]),\n",
      "                 InterproEntry(id='IPR006070',\n",
      "                               element_type='Domain',\n",
      "                               match_id='PS51163',\n",
      "                               element_name='Threonylcarbamoyl-AMP '\n",
      "                                            'synthase-like domain',\n",
      "                               representative=True,\n",
      "                               positions=[(3, 187)]),\n",
      "                 InterproEntry(id='IPR050156',\n",
      "                               element_type='Family',\n",
      "                               match_id='PTHR17490',\n",
      "                               element_name='Threonylcarbamoyl-AMP synthase, '\n",
      "                                            'SUA5',\n",
      "                               representative=False,\n",
      "                               positions=[(7, 187)]),\n",
      "                 InterproEntry(id='IPR017945',\n",
      "                               element_type='Homologous_superfamily',\n",
      "                               match_id='SSF55821',\n",
      "                               element_name='DHBP synthase RibB-like '\n",
      "                                            'alpha/beta domain superfamily',\n",
      "                               representative=False,\n",
      "                               positions=[(8, 184)]),\n",
      "                 InterproEntry(id='IPR006070',\n",
      "                               element_type='Domain',\n",
      "                               match_id='TIGR00057',\n",
      "                               element_name='Threonylcarbamoyl-AMP '\n",
      "                                            'synthase-like domain',\n",
      "                               representative=False,\n",
      "                               positions=[(8, 187)])],\n",
      "        secondary_structs=[SecondaryStructure(dssp_type=<DsspType.E: 2>,\n",
      "                                              start=2,\n",
      "                                              end=5),\n",
      "                           SecondaryStructure(dssp_type=<DsspType.G: 3>,\n",
      "                                              start=6,\n",
      "                                              end=9),\n",
      "                           SecondaryStructure(dssp_type=<DsspType.H: 0>,\n",
      "                                              start=10,\n",
      "                                              end=15),\n",
      "                           SecondaryStructure(dssp_type=<DsspType.T: 6>,\n",
      "                                              start=15,\n",
      "                                              end=17),\n",
      "                           SecondaryStructure(dssp_type=<DsspType.E: 2>,\n",
      "                                              start=19,\n",
      "                                              end=23),\n",
      "                           SecondaryStructure(dssp_type=<DsspType.S: 7>,\n",
      "                                              start=24,\n",
      "                                              end=27),\n",
      "                           SecondaryStructure(dssp_type=<DsspType.E: 2>,\n",
      "                                              start=27,\n",
      "                                              end=31),\n",
      "                           SecondaryStructure(dssp_type=<DsspType.T: 6>,\n",
      "                                              start=33,\n",
      "                                              end=35),\n",
      "                           SecondaryStructure(dssp_type=<DsspType.H: 0>,\n",
      "                                              start=36,\n",
      "                                              end=47),\n",
      "                           SecondaryStructure(dssp_type=<DsspType.T: 6>,\n",
      "                                              start=47,\n",
      "                                              end=48),\n",
      "                           SecondaryStructure(dssp_type=<DsspType.G: 3>,\n",
      "                                              start=50,\n",
      "                                              end=53),\n",
      "                           SecondaryStructure(dssp_type=<DsspType.E: 2>,\n",
      "                                              start=55,\n",
      "                                              end=59),\n",
      "                           SecondaryStructure(dssp_type=<DsspType.S: 7>,\n",
      "                                              start=59,\n",
      "                                              end=61),\n",
      "                           SecondaryStructure(dssp_type=<DsspType.G: 3>,\n",
      "                                              start=61,\n",
      "                                              end=65),\n",
      "                           SecondaryStructure(dssp_type=<DsspType.T: 6>,\n",
      "                                              start=65,\n",
      "                                              end=68),\n",
      "                           SecondaryStructure(dssp_type=<DsspType.E: 2>,\n",
      "                                              start=68,\n",
      "                                              end=69),\n",
      "                           SecondaryStructure(dssp_type=<DsspType.G: 3>,\n",
      "                                              start=70,\n",
      "                                              end=73),\n",
      "                           SecondaryStructure(dssp_type=<DsspType.S: 7>,\n",
      "                                              start=73,\n",
      "                                              end=74),\n",
      "                           SecondaryStructure(dssp_type=<DsspType.H: 0>,\n",
      "                                              start=75,\n",
      "                                              end=83),\n",
      "                           SecondaryStructure(dssp_type=<DsspType.T: 6>,\n",
      "                                              start=83,\n",
      "                                              end=85),\n",
      "                           SecondaryStructure(dssp_type=<DsspType.S: 7>,\n",
      "                                              start=86,\n",
      "                                              end=89),\n",
      "                           SecondaryStructure(dssp_type=<DsspType.E: 2>,\n",
      "                                              start=89,\n",
      "                                              end=95),\n",
      "                           SecondaryStructure(dssp_type=<DsspType.E: 2>,\n",
      "                                              start=95,\n",
      "                                              end=96),\n",
      "                           SecondaryStructure(dssp_type=<DsspType.T: 6>,\n",
      "                                              start=97,\n",
      "                                              end=99),\n",
      "                           SecondaryStructure(dssp_type=<DsspType.S: 7>,\n",
      "                                              start=99,\n",
      "                                              end=100),\n",
      "                           SecondaryStructure(dssp_type=<DsspType.H: 0>,\n",
      "                                              start=101,\n",
      "                                              end=105),\n",
      "                           SecondaryStructure(dssp_type=<DsspType.T: 6>,\n",
      "                                              start=105,\n",
      "                                              end=107),\n",
      "                           SecondaryStructure(dssp_type=<DsspType.S: 7>,\n",
      "                                              start=107,\n",
      "                                              end=109),\n",
      "                           SecondaryStructure(dssp_type=<DsspType.E: 2>,\n",
      "                                              start=109,\n",
      "                                              end=115),\n",
      "                           SecondaryStructure(dssp_type=<DsspType.H: 0>,\n",
      "                                              start=118,\n",
      "                                              end=127),\n",
      "                           SecondaryStructure(dssp_type=<DsspType.T: 6>,\n",
      "                                              start=127,\n",
      "                                              end=129),\n",
      "                           SecondaryStructure(dssp_type=<DsspType.S: 7>,\n",
      "                                              start=129,\n",
      "                                              end=130),\n",
      "                           SecondaryStructure(dssp_type=<DsspType.E: 2>,\n",
      "                                              start=131,\n",
      "                                              end=136),\n",
      "                           SecondaryStructure(dssp_type=<DsspType.S: 7>,\n",
      "                                              start=136,\n",
      "                                              end=138),\n",
      "                           SecondaryStructure(dssp_type=<DsspType.T: 6>,\n",
      "                                              start=139,\n",
      "                                              end=141),\n",
      "                           SecondaryStructure(dssp_type=<DsspType.S: 7>,\n",
      "                                              start=141,\n",
      "                                              end=142),\n",
      "                           SecondaryStructure(dssp_type=<DsspType.P: 5>,\n",
      "                                              start=142,\n",
      "                                              end=145),\n",
      "                           SecondaryStructure(dssp_type=<DsspType.S: 7>,\n",
      "                                              start=146,\n",
      "                                              end=147),\n",
      "                           SecondaryStructure(dssp_type=<DsspType.H: 0>,\n",
      "                                              start=147,\n",
      "                                              end=155),\n",
      "                           SecondaryStructure(dssp_type=<DsspType.T: 6>,\n",
      "                                              start=155,\n",
      "                                              end=158),\n",
      "                           SecondaryStructure(dssp_type=<DsspType.S: 7>,\n",
      "                                              start=159,\n",
      "                                              end=160),\n",
      "                           SecondaryStructure(dssp_type=<DsspType.E: 2>,\n",
      "                                              start=160,\n",
      "                                              end=163),\n",
      "                           SecondaryStructure(dssp_type=<DsspType.S: 7>,\n",
      "                                              start=168,\n",
      "                                              end=169),\n",
      "                           SecondaryStructure(dssp_type=<DsspType.S: 7>,\n",
      "                                              start=171,\n",
      "                                              end=172),\n",
      "                           SecondaryStructure(dssp_type=<DsspType.P: 5>,\n",
      "                                              start=172,\n",
      "                                              end=174),\n",
      "                           SecondaryStructure(dssp_type=<DsspType.E: 2>,\n",
      "                                              start=174,\n",
      "                                              end=178),\n",
      "                           SecondaryStructure(dssp_type=<DsspType.T: 6>,\n",
      "                                              start=178,\n",
      "                                              end=181),\n",
      "                           SecondaryStructure(dssp_type=<DsspType.E: 2>,\n",
      "                                              start=183,\n",
      "                                              end=186)])\n"
     ]
    }
   ],
   "source": [
    "prot_dataset.fetch_protein(\"A1S1K5\").print()"
   ]
  },
  {
   "cell_type": "markdown",
   "metadata": {},
   "source": [
    "We can also leverage the sharded structure to quickly perform computations or subsets of the full dataset. \n",
    "\n",
    "In this example, we use the `filter_proteins` function that takes in a function that receives a `Protein` and returns a `bool`, and fetches all proteins that match that criteria. In particular, we pull out proteins with very long alpha helices.\n",
    "\n",
    "Note that this example requires you to be running on a machine with multiple cores, set the `nprocs` parameter accordingly."
   ]
  },
  {
   "cell_type": "code",
   "execution_count": 12,
   "metadata": {},
   "outputs": [],
   "source": [
    "from magneton.types import DsspType, Protein\n",
    "from magneton.io.internal import filter_proteins"
   ]
  },
  {
   "cell_type": "code",
   "execution_count": 13,
   "metadata": {},
   "outputs": [
    {
     "name": "stderr",
     "output_type": "stream",
     "text": [
      "100%|██████████████████████████████████████████████████████████| 43/43 [01:31<00:00,  2.14s/it]\n"
     ]
    },
    {
     "name": "stdout",
     "output_type": "stream",
     "text": [
      "Protein(uniprot_id='A0A166B1A6',\n",
      "        kb_id='sp|A0A166B1A6|NMCP1_DAUCS',\n",
      "        name='NMCP1_DAUCS',\n",
      "        length=1119,\n",
      "        parsed_entries=1,\n",
      "        total_entries=1,\n",
      "        entries=[InterproEntry(id='IPR040418',\n",
      "                               element_type='Family',\n",
      "                               match_id='PTHR31908',\n",
      "                               element_name='Protein crowded nuclei',\n",
      "                               representative=True,\n",
      "                               positions=[(3, 1119)])],\n",
      "        secondary_structs=[SecondaryStructure(dssp_type=<DsspType.S: 7>,\n",
      "                                              start=5,\n",
      "                                              end=6),\n",
      "                           SecondaryStructure(dssp_type=<DsspType.S: 7>,\n",
      "                                              start=7,\n",
      "                                              end=10),\n",
      "                           SecondaryStructure(dssp_type=<DsspType.H: 0>,\n",
      "                                              start=10,\n",
      "                                              end=684),\n",
      "                           SecondaryStructure(dssp_type=<DsspType.T: 6>,\n",
      "                                              start=684,\n",
      "                                              end=686),\n",
      "                           SecondaryStructure(dssp_type=<DsspType.T: 6>,\n",
      "                                              start=689,\n",
      "                                              end=691),\n",
      "                           SecondaryStructure(dssp_type=<DsspType.S: 7>,\n",
      "                                              start=747,\n",
      "                                              end=748),\n",
      "                           SecondaryStructure(dssp_type=<DsspType.S: 7>,\n",
      "                                              start=802,\n",
      "                                              end=806),\n",
      "                           SecondaryStructure(dssp_type=<DsspType.S: 7>,\n",
      "                                              start=884,\n",
      "                                              end=885),\n",
      "                           SecondaryStructure(dssp_type=<DsspType.S: 7>,\n",
      "                                              start=950,\n",
      "                                              end=951),\n",
      "                           SecondaryStructure(dssp_type=<DsspType.S: 7>,\n",
      "                                              start=1034,\n",
      "                                              end=1037),\n",
      "                           SecondaryStructure(dssp_type=<DsspType.S: 7>,\n",
      "                                              start=1041,\n",
      "                                              end=1042),\n",
      "                           SecondaryStructure(dssp_type=<DsspType.S: 7>,\n",
      "                                              start=1114,\n",
      "                                              end=1115),\n",
      "                           SecondaryStructure(dssp_type=<DsspType.S: 7>,\n",
      "                                              start=1116,\n",
      "                                              end=1118)])\n"
     ]
    }
   ],
   "source": [
    "def has_long_helix(prot: Protein, max_len: int = 500) -> bool:\n",
    "    for ss in prot.secondary_structs:\n",
    "        if ss.dssp_type == DsspType.H and (ss.end - ss.start) >= max_len:\n",
    "            return True\n",
    "    return False\n",
    "\n",
    "long_helices = filter_proteins(\n",
    "    prot_dataset.input_path,\n",
    "    has_long_helix,\n",
    "    prefix=prot_dataset.prefix,\n",
    "    nprocs=32,\n",
    ")\n",
    "len(long_helices)\n",
    "long_helices[0].print()"
   ]
  },
  {
   "cell_type": "markdown",
   "metadata": {},
   "source": [
    "# Associated metadata"
   ]
  },
  {
   "cell_type": "markdown",
   "metadata": {},
   "source": [
    "## All InterPro types/labels"
   ]
  },
  {
   "cell_type": "markdown",
   "metadata": {},
   "source": [
    "If on OpenMind, an exhaustive list of the set of InterPro entries can be found here:"
   ]
  },
  {
   "cell_type": "code",
   "execution_count": 14,
   "metadata": {},
   "outputs": [],
   "source": [
    "label_path = (\n",
    "    data_path /\n",
    "    \"interpro_103.0\" /\n",
    "    \"selected_label_set\"\n",
    ")\n",
    "\n",
    "def load_stats(interpro_type: str) -> pd.DataFrame:\n",
    "    labels_path = os.path.join(label_path, f\"{interpro_type}.labels.tsv\")\n",
    "    return pd.read_table(labels_path)"
   ]
  },
  {
   "cell_type": "code",
   "execution_count": 15,
   "metadata": {},
   "outputs": [
    {
     "data": {
      "text/html": [
       "<div>\n",
       "<style scoped>\n",
       "    .dataframe tbody tr th:only-of-type {\n",
       "        vertical-align: middle;\n",
       "    }\n",
       "\n",
       "    .dataframe tbody tr th {\n",
       "        vertical-align: top;\n",
       "    }\n",
       "\n",
       "    .dataframe thead th {\n",
       "        text-align: right;\n",
       "    }\n",
       "</style>\n",
       "<table border=\"1\" class=\"dataframe\">\n",
       "  <thead>\n",
       "    <tr style=\"text-align: right;\">\n",
       "      <th></th>\n",
       "      <th>label</th>\n",
       "      <th>element_name</th>\n",
       "      <th>interpro_id</th>\n",
       "    </tr>\n",
       "  </thead>\n",
       "  <tbody>\n",
       "    <tr>\n",
       "      <th>0</th>\n",
       "      <td>0</td>\n",
       "      <td>Kringle</td>\n",
       "      <td>IPR000001</td>\n",
       "    </tr>\n",
       "    <tr>\n",
       "      <th>1</th>\n",
       "      <td>1</td>\n",
       "      <td>C2 domain</td>\n",
       "      <td>IPR000008</td>\n",
       "    </tr>\n",
       "    <tr>\n",
       "      <th>2</th>\n",
       "      <td>2</td>\n",
       "      <td>Cystatin domain</td>\n",
       "      <td>IPR000010</td>\n",
       "    </tr>\n",
       "    <tr>\n",
       "      <th>3</th>\n",
       "      <td>3</td>\n",
       "      <td>PAS domain</td>\n",
       "      <td>IPR000014</td>\n",
       "    </tr>\n",
       "    <tr>\n",
       "      <th>4</th>\n",
       "      <td>4</td>\n",
       "      <td>Phosphofructokinase domain</td>\n",
       "      <td>IPR000023</td>\n",
       "    </tr>\n",
       "  </tbody>\n",
       "</table>\n",
       "</div>"
      ],
      "text/plain": [
       "   label                element_name interpro_id\n",
       "0      0                     Kringle   IPR000001\n",
       "1      1                   C2 domain   IPR000008\n",
       "2      2             Cystatin domain   IPR000010\n",
       "3      3                  PAS domain   IPR000014\n",
       "4      4  Phosphofructokinase domain   IPR000023"
      ]
     },
     "execution_count": 15,
     "metadata": {},
     "output_type": "execute_result"
    }
   ],
   "source": [
    "load_stats(\"Domain\").head()"
   ]
  },
  {
   "cell_type": "code",
   "execution_count": 16,
   "metadata": {},
   "outputs": [
    {
     "data": {
      "text/html": [
       "<div>\n",
       "<style scoped>\n",
       "    .dataframe tbody tr th:only-of-type {\n",
       "        vertical-align: middle;\n",
       "    }\n",
       "\n",
       "    .dataframe tbody tr th {\n",
       "        vertical-align: top;\n",
       "    }\n",
       "\n",
       "    .dataframe thead th {\n",
       "        text-align: right;\n",
       "    }\n",
       "</style>\n",
       "<table border=\"1\" class=\"dataframe\">\n",
       "  <thead>\n",
       "    <tr style=\"text-align: right;\">\n",
       "      <th></th>\n",
       "      <th>label</th>\n",
       "      <th>element_name</th>\n",
       "      <th>interpro_id</th>\n",
       "    </tr>\n",
       "  </thead>\n",
       "  <tbody>\n",
       "    <tr>\n",
       "      <th>0</th>\n",
       "      <td>0</td>\n",
       "      <td>Metallothionein, vertebrate</td>\n",
       "      <td>IPR000006</td>\n",
       "    </tr>\n",
       "    <tr>\n",
       "      <th>1</th>\n",
       "      <td>1</td>\n",
       "      <td>SsrA-binding protein</td>\n",
       "      <td>IPR000037</td>\n",
       "    </tr>\n",
       "    <tr>\n",
       "      <th>2</th>\n",
       "      <td>2</td>\n",
       "      <td>Adenosylhomocysteinase-like</td>\n",
       "      <td>IPR000043</td>\n",
       "    </tr>\n",
       "    <tr>\n",
       "      <th>3</th>\n",
       "      <td>3</td>\n",
       "      <td>Thymidine/pyrimidine-nucleoside phosphorylase</td>\n",
       "      <td>IPR000053</td>\n",
       "    </tr>\n",
       "    <tr>\n",
       "      <th>4</th>\n",
       "      <td>4</td>\n",
       "      <td>Large ribosomal subunit protein eL31</td>\n",
       "      <td>IPR000054</td>\n",
       "    </tr>\n",
       "  </tbody>\n",
       "</table>\n",
       "</div>"
      ],
      "text/plain": [
       "   label                                   element_name interpro_id\n",
       "0      0                    Metallothionein, vertebrate   IPR000006\n",
       "1      1                           SsrA-binding protein   IPR000037\n",
       "2      2                    Adenosylhomocysteinase-like   IPR000043\n",
       "3      3  Thymidine/pyrimidine-nucleoside phosphorylase   IPR000053\n",
       "4      4           Large ribosomal subunit protein eL31   IPR000054"
      ]
     },
     "execution_count": 16,
     "metadata": {},
     "output_type": "execute_result"
    }
   ],
   "source": [
    "load_stats(\"Family\").head()"
   ]
  },
  {
   "cell_type": "markdown",
   "metadata": {},
   "source": [
    "## Structures and sequences"
   ]
  },
  {
   "cell_type": "markdown",
   "metadata": {},
   "source": [
    "For those working on OpenMind, you can find the associated 3D structure files from AlphaFoldDB here:"
   ]
  },
  {
   "cell_type": "code",
   "execution_count": 17,
   "metadata": {},
   "outputs": [
    {
     "name": "stdout",
     "output_type": "stream",
     "text": [
      "True\n",
      "True\n"
     ]
    }
   ],
   "source": [
    "example_id = example_prots[0].uniprot_id\n",
    "cif_tmpl = \"/weka/scratch/weka/kellislab/rcalef/data/cif_alphafolddb/AF-%s-F1-model_v4.cif.gz\"\n",
    "pdb_tmpl = \"/weka/scratch/weka/kellislab/rcalef/data/pdb_alphafolddb/AF-%s-F1-model_v4.pdb\"\n",
    "\n",
    "print(os.path.exists(cif_tmpl % example_id))\n",
    "print(os.path.exists(pdb_tmpl % example_id))"
   ]
  },
  {
   "cell_type": "markdown",
   "metadata": {},
   "source": [
    "Similarly, the associated amino acid sequence can be obtained as follows:"
   ]
  },
  {
   "cell_type": "code",
   "execution_count": 18,
   "metadata": {},
   "outputs": [],
   "source": [
    "from pysam import FastaFile"
   ]
  },
  {
   "cell_type": "code",
   "execution_count": 19,
   "metadata": {},
   "outputs": [
    {
     "name": "stdout",
     "output_type": "stream",
     "text": [
      "MSLEQKKGADIISKILQIQNSIGKTTSPSTLKTKLSEISRKEQENARIQSKLSDLQKKKIDIDNKLLKEKQNLIKEEILERKKLEVLTKKQQKDEIEHQKKLKREIDAIKASTQYITDVSISSYNNTIPETEPEYDLFISHASEDKEDFVRPLAETLQQLGVNVWYDEFTLKVGDSLRQKIDSGLRNSKYGTVVLSTDFIKKDWTNYELDGLVAREMNGHKMILPIWHKITKNDVLDYSPNLADKVALNTSVNSIEEIAHQLADVILNR\n"
     ]
    }
   ],
   "source": [
    "fa = FastaFile(fasta_path)\n",
    "\n",
    "# Note the use of kb_id instead of uniprot_id\n",
    "print(fa[example_prots[0].kb_id])"
   ]
  },
  {
   "cell_type": "markdown",
   "metadata": {},
   "source": [
    "## Dataset splits"
   ]
  },
  {
   "cell_type": "markdown",
   "metadata": {},
   "source": [
    "Dataset splits for the SwissProt subset can be found on OpenMind at the following path, and are also structured as directories of sharded pickle files. \n",
    "\n",
    "Note that in order to minimize information leakage, we construct our splits using pre-computed clusters of proteins that have been clustered on the basis of either sequence or structure similarity. Both sets of splits are available, with the structure-based splits being more stringent in terms of substructure observations being mostly assigned to a single split."
   ]
  },
  {
   "cell_type": "code",
   "execution_count": 20,
   "metadata": {},
   "outputs": [
    {
     "data": {
      "text/plain": [
       "PosixPath('/weka/scratch/weka/kellislab/rcalef/data/magneton-data/interpro_103.0/seq_splits')"
      ]
     },
     "execution_count": 20,
     "metadata": {},
     "output_type": "execute_result"
    }
   ],
   "source": [
    "splits_path = (\n",
    "    data_path /\n",
    "    \"interpro_103.0\" /\n",
    "    \"seq_splits\"\n",
    ")\n",
    "splits_path"
   ]
  },
  {
   "cell_type": "code",
   "execution_count": 21,
   "metadata": {},
   "outputs": [
    {
     "data": {
      "text/plain": [
       "[PosixPath('/weka/scratch/weka/kellislab/rcalef/data/magneton-data/interpro_103.0/seq_splits/val_sharded'),\n",
       " PosixPath('/weka/scratch/weka/kellislab/rcalef/data/magneton-data/interpro_103.0/seq_splits/test_sharded'),\n",
       " PosixPath('/weka/scratch/weka/kellislab/rcalef/data/magneton-data/interpro_103.0/seq_splits/train_sharded')]"
      ]
     },
     "execution_count": 21,
     "metadata": {},
     "output_type": "execute_result"
    }
   ],
   "source": [
    "list(splits_path.glob(\"*_sharded\"))"
   ]
  },
  {
   "cell_type": "markdown",
   "metadata": {},
   "source": [
    "For more details on split construction, see [`create_dataset_splits.ipynb`](https://github.com/rcalef/magneton/blob/main/experiments/create_dataset_splits.ipynb)"
   ]
  },
  {
   "cell_type": "markdown",
   "metadata": {},
   "source": [
    "# Data loaders"
   ]
  },
  {
   "cell_type": "markdown",
   "metadata": {},
   "source": [
    "To actually train and evaluate a model, we'll need to construct data loaders from these protein datasets"
   ]
  },
  {
   "cell_type": "code",
   "execution_count": 4,
   "metadata": {},
   "outputs": [],
   "source": [
    "import torch\n",
    "\n",
    "from torchdata.nodes import BaseNode, MapStyleWrapper, Filter\n",
    "from torch.utils.data import RandomSampler, DistributedSampler, SequentialSampler\n",
    "\n",
    "from magneton.config import DataConfig\n",
    "from magneton.data import MagnetonDataModule\n",
    "from magneton.data.core import (\n",
    "    CoreDataset,\n",
    "    SubstructType,\n",
    ")\n",
    "from magneton.types import DataType"
   ]
  },
  {
   "cell_type": "code",
   "execution_count": 5,
   "metadata": {},
   "outputs": [],
   "source": [
    "interpro_path = (\n",
    "    data_path /\n",
    "    \"interpro_103.0\"\n",
    ")\n",
    "label_path = (\n",
    "    interpro_path /\n",
    "    \"selected_label_set\"\n",
    ")\n",
    "\n",
    "dataset_path = (\n",
    "    interpro_path /\n",
    "    \"debug_datasets\"\n",
    ")\n",
    "\n",
    "data_config = DataConfig(\n",
    "    data_dir=dataset_path,\n",
    "    prefix=\"swissprot.with_ss.train\",\n",
    "    fasta_path=fasta_path,\n",
    "    labels_path=label_path,\n",
    "    substruct_types=[SubstructType.DOMAIN],\n",
    ")"
   ]
  },
  {
   "cell_type": "code",
   "execution_count": 6,
   "metadata": {},
   "outputs": [],
   "source": [
    "data_module = MagnetonDataModule(\n",
    "    data_config=data_config,\n",
    "    model_type=\"esmc\",\n",
    ")"
   ]
  },
  {
   "cell_type": "code",
   "execution_count": 7,
   "metadata": {},
   "outputs": [
    {
     "name": "stderr",
     "output_type": "stream",
     "text": [
      "100%|██████████████████████████████████████████████████████| 1/1 [00:13<00:00, 13.30s/it]\n"
     ]
    }
   ],
   "source": [
    "loader = data_module.train_dataloader()"
   ]
  },
  {
   "cell_type": "code",
   "execution_count": 8,
   "metadata": {},
   "outputs": [],
   "source": [
    "it = iter(loader)"
   ]
  },
  {
   "cell_type": "code",
   "execution_count": 9,
   "metadata": {},
   "outputs": [
    {
     "data": {
      "text/plain": [
       "ESMCBatch(protein_ids=['A1ABS6', 'A1AWD0', 'A0KU61', 'A0JXU0', 'A1AU61', 'A0BD73', 'A0ALA8', 'A1ADB6', 'A0A2H4HHY6', 'A0AEM3', 'A0AFC3', 'A0A455LLX4', 'A0T0M9', 'A0RJ81', 'A0KYA2', 'A0A0H3NBY9', 'A0RV25', 'A0KEH8', 'A0B9K1', 'A0RCM7', 'A0T0L8', 'A0QL16', 'A0QSG3', 'A1JLK6', 'A0Q3I1', 'A0R1W8', 'A0T0H8', 'A0KZ22', 'A0PW28', 'A0A0H2URG7', 'A0RPF9', 'A1JNH0'], seqs=None, substructures=None, structure_list=None, labels=None, tokenized_seq=tensor([[ 0, 20, 17,  ...,  1,  1,  1],\n",
       "        [ 0, 20,  5,  ...,  1,  1,  1],\n",
       "        [ 0, 20, 21,  ...,  1,  1,  1],\n",
       "        ...,\n",
       "        [ 0, 20, 11,  ...,  1,  1,  1],\n",
       "        [ 0, 20, 12,  ...,  1,  1,  1],\n",
       "        [ 0, 20, 20,  ...,  1,  1,  1]]))"
      ]
     },
     "execution_count": 9,
     "metadata": {},
     "output_type": "execute_result"
    }
   ],
   "source": [
    "batch = next(it)\n",
    "batch"
   ]
  }
 ],
 "metadata": {
  "kernelspec": {
   "display_name": "Python 3 (ipykernel)",
   "language": "python",
   "name": "python3"
  },
  "language_info": {
   "codemirror_mode": {
    "name": "ipython",
    "version": 3
   },
   "file_extension": ".py",
   "mimetype": "text/x-python",
   "name": "python",
   "nbconvert_exporter": "python",
   "pygments_lexer": "ipython3",
   "version": "3.11.11"
  }
 },
 "nbformat": 4,
 "nbformat_minor": 2
}
