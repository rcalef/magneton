{
 "cells": [
  {
   "cell_type": "code",
   "execution_count": 1,
   "metadata": {},
   "outputs": [],
   "source": [
    "import os\n",
    "\n",
    "from torch.utils.data import DataLoader\n",
    "\n",
    "from magneton.data.sequence_only import SequenceOnlyDataset, collate_sequence_datasets\n",
    "from magneton.embedders.esmc_embedder import ESMCEmbedder, ESMCConfig"
   ]
  },
  {
   "cell_type": "markdown",
   "metadata": {},
   "source": [
    "This notebook provides an example of how to generate ESM-C embeddings using an existing protein dataset. Note that we need to specify both the location of the protein dataset directory as well as the path to the FASTA file containing the protein sequences."
   ]
  },
  {
   "cell_type": "code",
   "execution_count": 2,
   "metadata": {},
   "outputs": [],
   "source": [
    "interpro_path = \"/weka/scratch/weka/kellislab/rcalef/data/interpro/103.0/\"\n",
    "fasta_path = \"/rdma/vast-rdma/vast-home/rcalef/transfer/uniprot_sprot.fasta.gz\""
   ]
  },
  {
   "cell_type": "code",
   "execution_count": 3,
   "metadata": {},
   "outputs": [
    {
     "data": {
      "text/plain": [
       "530601"
      ]
     },
     "execution_count": 3,
     "metadata": {},
     "output_type": "execute_result"
    }
   ],
   "source": [
    "prot_dataset = SequenceOnlyDataset(\n",
    "    input_path=os.path.join(interpro_path, \"swissprot\", \"sharded_swissprot\", \"with_ss\"),\n",
    "    fasta_path=fasta_path,\n",
    "    prefix=\"swissprot.with_ss\",\n",
    ")\n",
    "len(prot_dataset)"
   ]
  },
  {
   "cell_type": "code",
   "execution_count": 4,
   "metadata": {},
   "outputs": [
    {
     "name": "stdout",
     "output_type": "stream",
     "text": [
      "('MSLEQKKGADIISKILQIQNSIGKTTSPSTLKTKLSEISRKEQENARIQSKLSDLQKKKIDIDNKLLKEKQNLIKEEILERKKLEVLTKKQQKDEIEHQKKLKREIDAIKASTQYITDVSISSYNNTIPETEPEYDLFISHASEDKEDFVRPLAETLQQLGVNVWYDEFTLKVGDSLRQKIDSGLRNSKYGTVVLSTDFIKKDWTNYELDGLVAREMNGHKMILPIWHKITKNDVLDYSPNLADKVALNTSVNSIEEIAHQLADVILNR', Protein(uniprot_id='A0A009IHW8', kb_id='sp|A0A009IHW8|ABTIR_ACIB9', name='ABTIR_ACIB9', length=269, parsed_entries=5, total_entries=5, entries=[InterproEntry(id='IPR035897', element_type='Homologous_superfamily', match_id='G3DSA:3.40.50.10140', element_name='Toll/interleukin-1 receptor homology (TIR) domain superfamily', representative=False, positions=[(80, 266)]), InterproEntry(id='IPR000157', element_type='Domain', match_id='PF13676', element_name='Toll/interleukin-1 receptor homology (TIR) domain', representative=False, positions=[(138, 231)]), InterproEntry(id='IPR000157', element_type='Domain', match_id='PS50104', element_name='Toll/interleukin-1 receptor homology (TIR) domain', representative=True, positions=[(133, 266)]), InterproEntry(id='IPR000157', element_type='Domain', match_id='SM00255', element_name='Toll/interleukin-1 receptor homology (TIR) domain', representative=False, positions=[(134, 258)]), InterproEntry(id='IPR035897', element_type='Homologous_superfamily', match_id='SSF52200', element_name='Toll/interleukin-1 receptor homology (TIR) domain superfamily', representative=False, positions=[(128, 249)])], secondary_structs=[SecondaryStructure(dssp_type=<DsspType.H: 0>, start=3, end=21), SecondaryStructure(dssp_type=<DsspType.T: 6>, start=21, end=22), SecondaryStructure(dssp_type=<DsspType.T: 6>, start=24, end=26), SecondaryStructure(dssp_type=<DsspType.H: 0>, start=28, end=127), SecondaryStructure(dssp_type=<DsspType.T: 6>, start=127, end=128), SecondaryStructure(dssp_type=<DsspType.S: 7>, start=128, end=129), SecondaryStructure(dssp_type=<DsspType.S: 7>, start=130, end=131), SecondaryStructure(dssp_type=<DsspType.S: 7>, start=134, end=135), SecondaryStructure(dssp_type=<DsspType.E: 2>, start=135, end=143), SecondaryStructure(dssp_type=<DsspType.G: 3>, start=143, end=146), SecondaryStructure(dssp_type=<DsspType.I: 4>, start=146, end=151), SecondaryStructure(dssp_type=<DsspType.H: 0>, start=151, end=160), SecondaryStructure(dssp_type=<DsspType.T: 6>, start=160, end=162), SecondaryStructure(dssp_type=<DsspType.E: 2>, start=164, end=166), SecondaryStructure(dssp_type=<DsspType.G: 3>, start=167, end=170), SecondaryStructure(dssp_type=<DsspType.E: 2>, start=170, end=172), SecondaryStructure(dssp_type=<DsspType.T: 6>, start=173, end=175), SecondaryStructure(dssp_type=<DsspType.H: 0>, start=177, end=188), SecondaryStructure(dssp_type=<DsspType.E: 2>, start=188, end=197), SecondaryStructure(dssp_type=<DsspType.H: 0>, start=197, end=201), SecondaryStructure(dssp_type=<DsspType.T: 6>, start=201, end=204), SecondaryStructure(dssp_type=<DsspType.H: 0>, start=206, end=215), SecondaryStructure(dssp_type=<DsspType.T: 6>, start=215, end=219), SecondaryStructure(dssp_type=<DsspType.S: 7>, start=219, end=222), SecondaryStructure(dssp_type=<DsspType.E: 2>, start=223, end=229), SecondaryStructure(dssp_type=<DsspType.S: 7>, start=229, end=230), SecondaryStructure(dssp_type=<DsspType.H: 0>, start=232, end=237), SecondaryStructure(dssp_type=<DsspType.T: 6>, start=237, end=239), SecondaryStructure(dssp_type=<DsspType.H: 0>, start=240, end=244), SecondaryStructure(dssp_type=<DsspType.T: 6>, start=244, end=245), SecondaryStructure(dssp_type=<DsspType.S: 7>, start=245, end=246), SecondaryStructure(dssp_type=<DsspType.E: 2>, start=248, end=250), SecondaryStructure(dssp_type=<DsspType.T: 6>, start=250, end=253), SecondaryStructure(dssp_type=<DsspType.S: 7>, start=253, end=254), SecondaryStructure(dssp_type=<DsspType.H: 0>, start=255, end=268), SecondaryStructure(dssp_type=<DsspType.T: 6>, start=268, end=269)]))\n"
     ]
    }
   ],
   "source": [
    "dataloader = DataLoader(\n",
    "    prot_dataset,\n",
    "    batch_size=4,\n",
    "    shuffle=False,\n",
    "    num_workers=0,\n",
    "    collate_fn=collate_sequence_datasets,\n",
    ")\n",
    "\n",
    "# Batch is a list of tuples, each tuple is a protein sequence and Protein object.\n",
    "batch = next(iter(dataloader))\n",
    "print(batch[0])"
   ]
  },
  {
   "cell_type": "code",
   "execution_count": 5,
   "metadata": {},
   "outputs": [],
   "source": [
    "esmc_config = ESMCConfig(\n",
    "    weights_path=\"/weka/scratch/weka/kellislab/rcalef/model_weights/esmc-600m-2024-12\",\n",
    "    # Note that this is also the default, the hidden states from\n",
    "    # the final transformer layer.\n",
    "    rep_layer=35,\n",
    "    use_flash_attn=False,\n",
    "    device=\"cuda\",\n",
    ")"
   ]
  },
  {
   "cell_type": "code",
   "execution_count": 6,
   "metadata": {},
   "outputs": [
    {
     "name": "stderr",
     "output_type": "stream",
     "text": [
      "/net/vast-storage/scratch/vast/kellislab/rcalef/sandbox/repos/magneton/magneton/embedders/esmc_embedder.py:49: FutureWarning: You are using `torch.load` with `weights_only=False` (the current default value), which uses the default pickle module implicitly. It is possible to construct malicious pickle data which will execute arbitrary code during unpickling (See https://github.com/pytorch/pytorch/blob/main/SECURITY.md#untrusted-models for more details). In a future release, the default value for `weights_only` will be flipped to `True`. This limits the functions that could be executed during unpickling. Arbitrary objects will no longer be allowed to be loaded via this mode unless they are explicitly allowlisted by the user via `torch.serialization.add_safe_globals`. We recommend you start setting `weights_only=True` for any use case where you don't have full control of the loaded file. Please open an issue on GitHub for any issues related to this experimental feature.\n",
      "  state_dict = torch.load(\n"
     ]
    }
   ],
   "source": [
    "embedder = ESMCEmbedder(config=esmc_config)"
   ]
  },
  {
   "cell_type": "markdown",
   "metadata": {},
   "source": [
    "We can now embed a single amino acid sequence."
   ]
  },
  {
   "cell_type": "code",
   "execution_count": 7,
   "metadata": {},
   "outputs": [
    {
     "name": "stdout",
     "output_type": "stream",
     "text": [
      "MSLEQKKGADIISKILQIQNSIGKTTSPSTLKTKLSEISRKEQENARIQSKLSDLQKKKIDIDNKLLKEKQNLIKEEILERKKLEVLTKKQQKDEIEHQKKLKREIDAIKASTQYITDVSISSYNNTIPETEPEYDLFISHASEDKEDFVRPLAETLQQLGVNVWYDEFTLKVGDSLRQKIDSGLRNSKYGTVVLSTDFIKKDWTNYELDGLVAREMNGHKMILPIWHKITKNDVLDYSPNLADKVALNTSVNSIEEIAHQLADVILNR\n",
      "torch.Size([269, 1152])\n"
     ]
    },
    {
     "data": {
      "text/plain": [
       "tensor([[ 0.0288,  0.0265, -0.0140,  ...,  0.0057, -0.0190,  0.0182],\n",
       "        [-0.0192,  0.0288,  0.0173,  ...,  0.0073,  0.0032, -0.0096],\n",
       "        [-0.0063,  0.0354,  0.0086,  ...,  0.0073,  0.0022, -0.0060],\n",
       "        ...,\n",
       "        [ 0.0159, -0.0169,  0.0096,  ..., -0.0070, -0.0086,  0.0072],\n",
       "        [-0.0188, -0.0211,  0.0249,  ..., -0.0003,  0.0126,  0.0464],\n",
       "        [ 0.0239, -0.0315,  0.0257,  ..., -0.0056,  0.0286, -0.0071]])"
      ]
     },
     "execution_count": 7,
     "metadata": {},
     "output_type": "execute_result"
    }
   ],
   "source": [
    "# Embed a single sequence\n",
    "print(batch[0][0])\n",
    "seq_embed = embedder.embed_single_protein(batch[0][0])\n",
    "\n",
    "print(seq_embed.shape)\n",
    "seq_embed"
   ]
  },
  {
   "cell_type": "markdown",
   "metadata": {},
   "source": [
    "Or embed a whole batch, returning a list of `torch.Tensor`."
   ]
  },
  {
   "cell_type": "code",
   "execution_count": 9,
   "metadata": {},
   "outputs": [
    {
     "name": "stdout",
     "output_type": "stream",
     "text": [
      "4\n",
      "torch.Size([269, 1152])\n",
      "torch.Size([118, 1152])\n",
      "torch.Size([118, 1152])\n",
      "torch.Size([119, 1152])\n"
     ]
    },
    {
     "data": {
      "text/plain": [
       "tensor([[ 0.0288,  0.0265, -0.0140,  ...,  0.0057, -0.0190,  0.0182],\n",
       "        [-0.0192,  0.0288,  0.0173,  ...,  0.0073,  0.0032, -0.0096],\n",
       "        [-0.0063,  0.0354,  0.0086,  ...,  0.0073,  0.0022, -0.0060],\n",
       "        ...,\n",
       "        [ 0.0159, -0.0169,  0.0096,  ..., -0.0070, -0.0086,  0.0072],\n",
       "        [-0.0188, -0.0211,  0.0249,  ..., -0.0003,  0.0126,  0.0464],\n",
       "        [ 0.0239, -0.0315,  0.0257,  ..., -0.0056,  0.0286, -0.0071]])"
      ]
     },
     "execution_count": 9,
     "metadata": {},
     "output_type": "execute_result"
    }
   ],
   "source": [
    "batch_embeds = embedder.embed_batch(batch)\n",
    "print(len(batch_embeds))\n",
    "for embed in batch_embeds:\n",
    "    print(embed.shape)\n",
    "batch_embeds[0]"
   ]
  },
  {
   "cell_type": "markdown",
   "metadata": {},
   "source": [
    "We can also handle sequences longer than the max context length without any modifications."
   ]
  },
  {
   "cell_type": "code",
   "execution_count": 10,
   "metadata": {},
   "outputs": [
    {
     "data": {
      "text/plain": [
       "[269, 11800, 118, 119]"
      ]
     },
     "execution_count": 10,
     "metadata": {},
     "output_type": "execute_result"
    }
   ],
   "source": [
    "batch[1] = (batch[1][0]*100, batch[1][1])\n",
    "[len(seq) for seq, _ in batch]"
   ]
  },
  {
   "cell_type": "code",
   "execution_count": 11,
   "metadata": {},
   "outputs": [
    {
     "name": "stdout",
     "output_type": "stream",
     "text": [
      "4\n",
      "torch.Size([269, 1152])\n",
      "torch.Size([11800, 1152])\n",
      "torch.Size([118, 1152])\n",
      "torch.Size([119, 1152])\n"
     ]
    }
   ],
   "source": [
    "batch_embeds = embedder.embed_batch(batch)\n",
    "print(len(batch_embeds))\n",
    "for embed in batch_embeds:\n",
    "    print(embed.shape)"
   ]
  },
  {
   "cell_type": "code",
   "execution_count": null,
   "metadata": {},
   "outputs": [],
   "source": []
  }
 ],
 "metadata": {
  "kernelspec": {
   "display_name": "Python 3 (ipykernel)",
   "language": "python",
   "name": "python3"
  }
 },
 "nbformat": 4,
 "nbformat_minor": 2
}
